{
 "cells": [
  {
   "cell_type": "markdown",
   "metadata": {},
   "source": [
    "## Amazon SageMaker Feature Store: Introduction to Feature Store"
   ]
  },
  {
   "attachments": {},
   "cell_type": "markdown",
   "metadata": {},
   "source": [
    "---\n",
    "\n",
    "This notebook's CI test result for us-west-2 is as follows. CI test results in other regions can be found at the end of the notebook. \n",
    "\n",
    "![This us-west-2 badge failed to load. Check your device's internet connectivity, otherwise the service is currently unavailable](https://prod.us-west-2.tcx-beacon.docs.aws.dev/sagemaker-nb/us-west-2/sagemaker-featurestore|feature_store_introduction.ipynb)\n",
    "\n",
    "---"
   ]
  },
  {
   "cell_type": "markdown",
   "metadata": {},
   "source": [
    "This notebook demonstrates how to get started with Feature Store, create feature groups, and ingest data into them. These feature groups are stored in your Feature Store.\n",
    "\n",
    "Feature groups are resources that contain metadata for all data stored in your Feature Store. A feature group is a logical grouping of features, defined in the feature store to describe records. A feature group’s definition is composed of a list of feature definitions, a record identifier name, and configurations for its online and offline store. \n",
    "\n",
    "### Overview\n",
    "1. Set up\n",
    "2. Creating a feature group\n",
    "3. Ingest data into a feature group\n",
    "\n",
    "### Prerequisites\n",
    "This notebook uses both `boto3` and Python SDK libraries, and the `Python 3 (Data Science)` kernel. This notebook works with Studio, Jupyter, and JupyterLab. \n",
    "\n",
    "#### Library dependencies:\n",
    "* `sagemaker>=2.100.0`\n",
    "* `numpy`\n",
    "* `pandas`\n",
    "\n",
    "#### Role requirements:\n",
    "**IMPORTANT**: You must attach the following policies to your execution role:\n",
    "* `AmazonS3FullAccess`\n",
    "* `AmazonSageMakerFeatureStoreAccess`"
   ]
  },
  {
   "cell_type": "markdown",
   "metadata": {},
   "source": [
    "![policy](images/feature-store-policy.png)"
   ]
  },
  {
   "cell_type": "markdown",
   "metadata": {},
   "source": [
    "### Set up"
   ]
  },
  {
   "cell_type": "code",
   "execution_count": 1,
   "metadata": {},
   "outputs": [
    {
     "name": "stdout",
     "output_type": "stream",
     "text": [
      "sagemaker.config INFO - Not applying SDK defaults from location: /etc/xdg/sagemaker/config.yaml\n",
      "sagemaker.config INFO - Not applying SDK defaults from location: /home/sagemaker-user/.config/sagemaker/config.yaml\n",
      "Requirement already satisfied: sagemaker>=2.100.0 in /opt/conda/lib/python3.10/site-packages (2.197.0)\n",
      "Requirement already satisfied: attrs<24,>=23.1.0 in /opt/conda/lib/python3.10/site-packages (from sagemaker>=2.100.0) (23.1.0)\n",
      "Requirement already satisfied: boto3<2.0,>=1.26.131 in /opt/conda/lib/python3.10/site-packages (from sagemaker>=2.100.0) (1.28.64)\n",
      "Requirement already satisfied: cloudpickle==2.2.1 in /opt/conda/lib/python3.10/site-packages (from sagemaker>=2.100.0) (2.2.1)\n",
      "Requirement already satisfied: google-pasta in /opt/conda/lib/python3.10/site-packages (from sagemaker>=2.100.0) (0.2.0)\n",
      "Requirement already satisfied: numpy<2.0,>=1.9.0 in /opt/conda/lib/python3.10/site-packages (from sagemaker>=2.100.0) (1.26.0)\n",
      "Requirement already satisfied: protobuf<5.0,>=3.12 in /opt/conda/lib/python3.10/site-packages (from sagemaker>=2.100.0) (4.21.12)\n",
      "Requirement already satisfied: smdebug-rulesconfig==1.0.1 in /opt/conda/lib/python3.10/site-packages (from sagemaker>=2.100.0) (1.0.1)\n",
      "Requirement already satisfied: importlib-metadata<7.0,>=1.4.0 in /opt/conda/lib/python3.10/site-packages (from sagemaker>=2.100.0) (6.8.0)\n",
      "Requirement already satisfied: packaging>=20.0 in /opt/conda/lib/python3.10/site-packages (from sagemaker>=2.100.0) (23.2)\n",
      "Requirement already satisfied: pandas in /opt/conda/lib/python3.10/site-packages (from sagemaker>=2.100.0) (2.1.2)\n",
      "Requirement already satisfied: pathos in /opt/conda/lib/python3.10/site-packages (from sagemaker>=2.100.0) (0.3.1)\n",
      "Requirement already satisfied: schema in /opt/conda/lib/python3.10/site-packages (from sagemaker>=2.100.0) (0.7.5)\n",
      "Requirement already satisfied: PyYAML~=6.0 in /opt/conda/lib/python3.10/site-packages (from sagemaker>=2.100.0) (6.0.1)\n",
      "Requirement already satisfied: jsonschema in /opt/conda/lib/python3.10/site-packages (from sagemaker>=2.100.0) (4.17.3)\n",
      "Requirement already satisfied: platformdirs in /opt/conda/lib/python3.10/site-packages (from sagemaker>=2.100.0) (3.5.1)\n",
      "Requirement already satisfied: tblib==1.7.0 in /opt/conda/lib/python3.10/site-packages (from sagemaker>=2.100.0) (1.7.0)\n",
      "Requirement already satisfied: botocore<1.32.0,>=1.31.64 in /opt/conda/lib/python3.10/site-packages (from boto3<2.0,>=1.26.131->sagemaker>=2.100.0) (1.31.64)\n",
      "Requirement already satisfied: jmespath<2.0.0,>=0.7.1 in /opt/conda/lib/python3.10/site-packages (from boto3<2.0,>=1.26.131->sagemaker>=2.100.0) (1.0.1)\n",
      "Requirement already satisfied: s3transfer<0.8.0,>=0.7.0 in /opt/conda/lib/python3.10/site-packages (from boto3<2.0,>=1.26.131->sagemaker>=2.100.0) (0.7.0)\n",
      "Requirement already satisfied: zipp>=0.5 in /opt/conda/lib/python3.10/site-packages (from importlib-metadata<7.0,>=1.4.0->sagemaker>=2.100.0) (3.17.0)\n",
      "Requirement already satisfied: six in /opt/conda/lib/python3.10/site-packages (from google-pasta->sagemaker>=2.100.0) (1.16.0)\n",
      "Requirement already satisfied: pyrsistent!=0.17.0,!=0.17.1,!=0.17.2,>=0.14.0 in /opt/conda/lib/python3.10/site-packages (from jsonschema->sagemaker>=2.100.0) (0.20.0)\n",
      "Requirement already satisfied: python-dateutil>=2.8.2 in /opt/conda/lib/python3.10/site-packages (from pandas->sagemaker>=2.100.0) (2.8.2)\n",
      "Requirement already satisfied: pytz>=2020.1 in /opt/conda/lib/python3.10/site-packages (from pandas->sagemaker>=2.100.0) (2023.3)\n",
      "Requirement already satisfied: tzdata>=2022.1 in /opt/conda/lib/python3.10/site-packages (from pandas->sagemaker>=2.100.0) (2023.3)\n",
      "Requirement already satisfied: ppft>=1.7.6.7 in /opt/conda/lib/python3.10/site-packages (from pathos->sagemaker>=2.100.0) (1.7.6.7)\n",
      "Requirement already satisfied: dill>=0.3.7 in /opt/conda/lib/python3.10/site-packages (from pathos->sagemaker>=2.100.0) (0.3.7)\n",
      "Requirement already satisfied: pox>=0.3.3 in /opt/conda/lib/python3.10/site-packages (from pathos->sagemaker>=2.100.0) (0.3.3)\n",
      "Requirement already satisfied: multiprocess>=0.70.15 in /opt/conda/lib/python3.10/site-packages (from pathos->sagemaker>=2.100.0) (0.70.15)\n",
      "Requirement already satisfied: contextlib2>=0.5.5 in /opt/conda/lib/python3.10/site-packages (from schema->sagemaker>=2.100.0) (21.6.0)\n",
      "Requirement already satisfied: urllib3<2.1,>=1.25.4 in /opt/conda/lib/python3.10/site-packages (from botocore<1.32.0,>=1.31.64->boto3<2.0,>=1.26.131->sagemaker>=2.100.0) (1.26.18)\n",
      "Requirement already satisfied: boto3>=1.24.20 in /opt/conda/lib/python3.10/site-packages (1.28.64)\n",
      "Requirement already satisfied: botocore<1.32.0,>=1.31.64 in /opt/conda/lib/python3.10/site-packages (from boto3>=1.24.20) (1.31.64)\n",
      "Requirement already satisfied: jmespath<2.0.0,>=0.7.1 in /opt/conda/lib/python3.10/site-packages (from boto3>=1.24.20) (1.0.1)\n",
      "Requirement already satisfied: s3transfer<0.8.0,>=0.7.0 in /opt/conda/lib/python3.10/site-packages (from boto3>=1.24.20) (0.7.0)\n",
      "Requirement already satisfied: python-dateutil<3.0.0,>=2.1 in /opt/conda/lib/python3.10/site-packages (from botocore<1.32.0,>=1.31.64->boto3>=1.24.20) (2.8.2)\n",
      "Requirement already satisfied: urllib3<2.1,>=1.25.4 in /opt/conda/lib/python3.10/site-packages (from botocore<1.32.0,>=1.31.64->boto3>=1.24.20) (1.26.18)\n",
      "Requirement already satisfied: six>=1.5 in /opt/conda/lib/python3.10/site-packages (from python-dateutil<3.0.0,>=2.1->botocore<1.32.0,>=1.31.64->boto3>=1.24.20) (1.16.0)\n"
     ]
    }
   ],
   "source": [
    "# SageMaker Python SDK version 2.100.0 is required\n",
    "# boto3 version 1.24.20 is required\n",
    "import sagemaker\n",
    "import boto3\n",
    "import sys\n",
    "\n",
    "!pip install 'sagemaker>=2.100.0'\n",
    "!pip install 'boto3>=1.24.20'"
   ]
  },
  {
   "cell_type": "code",
   "execution_count": 2,
   "metadata": {},
   "outputs": [
    {
     "name": "stdout",
     "output_type": "stream",
     "text": [
      "sagemaker.config INFO - Not applying SDK defaults from location: /etc/xdg/sagemaker/config.yaml\n",
      "sagemaker.config INFO - Not applying SDK defaults from location: /home/sagemaker-user/.config/sagemaker/config.yaml\n",
      "sagemaker.config INFO - Not applying SDK defaults from location: /etc/xdg/sagemaker/config.yaml\n",
      "sagemaker.config INFO - Not applying SDK defaults from location: /home/sagemaker-user/.config/sagemaker/config.yaml\n"
     ]
    }
   ],
   "source": [
    "import pandas as pd\n",
    "import numpy as np\n",
    "import io\n",
    "from sagemaker.session import Session\n",
    "from sagemaker import get_execution_role\n",
    "\n",
    "prefix = \"sagemaker-featurestore-introduction\"\n",
    "role = get_execution_role()\n",
    "\n",
    "sagemaker_session = sagemaker.Session()\n",
    "region = sagemaker_session.boto_region_name\n",
    "s3_bucket_name = sagemaker_session.default_bucket()"
   ]
  },
  {
   "cell_type": "markdown",
   "metadata": {},
   "source": [
    "### Inspect your data\n",
    "In this notebook example we ingest synthetic data. We read from `./data/feature_store_introduction_customer.csv` and `./data/feature_store_introduction_orders.csv`."
   ]
  },
  {
   "cell_type": "code",
   "execution_count": 3,
   "metadata": {},
   "outputs": [],
   "source": [
    "customer_data = pd.read_csv(\"data/feature_store_introduction_customer.csv\")\n",
    "orders_data = pd.read_csv(\"data/feature_store_introduction_orders.csv\")"
   ]
  },
  {
   "cell_type": "code",
   "execution_count": 4,
   "metadata": {},
   "outputs": [
    {
     "data": {
      "text/html": [
       "<div>\n",
       "<style scoped>\n",
       "    .dataframe tbody tr th:only-of-type {\n",
       "        vertical-align: middle;\n",
       "    }\n",
       "\n",
       "    .dataframe tbody tr th {\n",
       "        vertical-align: top;\n",
       "    }\n",
       "\n",
       "    .dataframe thead th {\n",
       "        text-align: right;\n",
       "    }\n",
       "</style>\n",
       "<table border=\"1\" class=\"dataframe\">\n",
       "  <thead>\n",
       "    <tr style=\"text-align: right;\">\n",
       "      <th></th>\n",
       "      <th>customer_id</th>\n",
       "      <th>city_code</th>\n",
       "      <th>state_code</th>\n",
       "      <th>country_code</th>\n",
       "    </tr>\n",
       "  </thead>\n",
       "  <tbody>\n",
       "    <tr>\n",
       "      <th>0</th>\n",
       "      <td>573291</td>\n",
       "      <td>1</td>\n",
       "      <td>49</td>\n",
       "      <td>2</td>\n",
       "    </tr>\n",
       "    <tr>\n",
       "      <th>1</th>\n",
       "      <td>109382</td>\n",
       "      <td>2</td>\n",
       "      <td>40</td>\n",
       "      <td>2</td>\n",
       "    </tr>\n",
       "    <tr>\n",
       "      <th>2</th>\n",
       "      <td>828400</td>\n",
       "      <td>3</td>\n",
       "      <td>31</td>\n",
       "      <td>2</td>\n",
       "    </tr>\n",
       "    <tr>\n",
       "      <th>3</th>\n",
       "      <td>124013</td>\n",
       "      <td>4</td>\n",
       "      <td>5</td>\n",
       "      <td>2</td>\n",
       "    </tr>\n",
       "  </tbody>\n",
       "</table>\n",
       "</div>"
      ],
      "text/plain": [
       "   customer_id  city_code  state_code  country_code\n",
       "0       573291          1          49             2\n",
       "1       109382          2          40             2\n",
       "2       828400          3          31             2\n",
       "3       124013          4           5             2"
      ]
     },
     "execution_count": 4,
     "metadata": {},
     "output_type": "execute_result"
    }
   ],
   "source": [
    "customer_data.head()"
   ]
  },
  {
   "cell_type": "code",
   "execution_count": 5,
   "metadata": {},
   "outputs": [
    {
     "data": {
      "text/html": [
       "<div>\n",
       "<style scoped>\n",
       "    .dataframe tbody tr th:only-of-type {\n",
       "        vertical-align: middle;\n",
       "    }\n",
       "\n",
       "    .dataframe tbody tr th {\n",
       "        vertical-align: top;\n",
       "    }\n",
       "\n",
       "    .dataframe thead th {\n",
       "        text-align: right;\n",
       "    }\n",
       "</style>\n",
       "<table border=\"1\" class=\"dataframe\">\n",
       "  <thead>\n",
       "    <tr style=\"text-align: right;\">\n",
       "      <th></th>\n",
       "      <th>customer_id</th>\n",
       "      <th>order_id</th>\n",
       "      <th>order_status</th>\n",
       "      <th>store_id</th>\n",
       "    </tr>\n",
       "  </thead>\n",
       "  <tbody>\n",
       "    <tr>\n",
       "      <th>0</th>\n",
       "      <td>573291</td>\n",
       "      <td>4132</td>\n",
       "      <td>1</td>\n",
       "      <td>303</td>\n",
       "    </tr>\n",
       "    <tr>\n",
       "      <th>1</th>\n",
       "      <td>109382</td>\n",
       "      <td>5724</td>\n",
       "      <td>0</td>\n",
       "      <td>201</td>\n",
       "    </tr>\n",
       "    <tr>\n",
       "      <th>2</th>\n",
       "      <td>828400</td>\n",
       "      <td>1942</td>\n",
       "      <td>0</td>\n",
       "      <td>431</td>\n",
       "    </tr>\n",
       "    <tr>\n",
       "      <th>3</th>\n",
       "      <td>124013</td>\n",
       "      <td>6782</td>\n",
       "      <td>1</td>\n",
       "      <td>213</td>\n",
       "    </tr>\n",
       "  </tbody>\n",
       "</table>\n",
       "</div>"
      ],
      "text/plain": [
       "   customer_id  order_id  order_status  store_id\n",
       "0       573291      4132             1       303\n",
       "1       109382      5724             0       201\n",
       "2       828400      1942             0       431\n",
       "3       124013      6782             1       213"
      ]
     },
     "execution_count": 5,
     "metadata": {},
     "output_type": "execute_result"
    }
   ],
   "source": [
    "orders_data.head()"
   ]
  },
  {
   "cell_type": "markdown",
   "metadata": {},
   "source": [
    "Below is an illustration on the steps the data goes through before it is ingested into a Feature Store. In this notebook, we illustrate the use-case where you have data from multiple sources and want to store them independently in a feature store. Our example considers data from a data warehouse (customer data), and data from a real-time streaming service (order data). "
   ]
  },
  {
   "cell_type": "markdown",
   "metadata": {},
   "source": [
    "![data flow](images/feature_store_data_ingest.svg)"
   ]
  },
  {
   "cell_type": "markdown",
   "metadata": {},
   "source": [
    "### Create a feature group\n",
    "\n",
    "We first start by creating feature group names for customer_data and orders_data. Following this, we create two Feature Groups, one for `customer_data` and another for `orders_data`"
   ]
  },
  {
   "cell_type": "code",
   "execution_count": 6,
   "metadata": {},
   "outputs": [],
   "source": [
    "from time import gmtime, strftime, sleep\n",
    "\n",
    "customers_feature_group_name = \"customers-feature-group-\" + strftime(\"%d-%H-%M-%S\", gmtime())\n",
    "orders_feature_group_name = \"orders-feature-group-\" + strftime(\"%d-%H-%M-%S\", gmtime())"
   ]
  },
  {
   "cell_type": "markdown",
   "metadata": {},
   "source": [
    "Instantiate a FeatureGroup object for customers_data and orders_data. "
   ]
  },
  {
   "cell_type": "code",
   "execution_count": 7,
   "metadata": {},
   "outputs": [],
   "source": [
    "from sagemaker.feature_store.feature_group import FeatureGroup\n",
    "\n",
    "customers_feature_group = FeatureGroup(\n",
    "    name=customers_feature_group_name, sagemaker_session=sagemaker_session\n",
    ")\n",
    "orders_feature_group = FeatureGroup(\n",
    "    name=orders_feature_group_name, sagemaker_session=sagemaker_session\n",
    ")"
   ]
  },
  {
   "cell_type": "code",
   "execution_count": 8,
   "metadata": {},
   "outputs": [],
   "source": [
    "import time\n",
    "\n",
    "current_time_sec = int(round(time.time()))\n",
    "\n",
    "record_identifier_feature_name = \"customer_id\""
   ]
  },
  {
   "cell_type": "markdown",
   "metadata": {},
   "source": [
    "Append `EventTime` feature to your data frame. This parameter is required, and time stamps each data point."
   ]
  },
  {
   "cell_type": "code",
   "execution_count": 9,
   "metadata": {},
   "outputs": [],
   "source": [
    "customer_data[\"EventTime\"] = pd.Series([current_time_sec] * len(customer_data), dtype=\"float64\")\n",
    "orders_data[\"EventTime\"] = pd.Series([current_time_sec] * len(orders_data), dtype=\"float64\")"
   ]
  },
  {
   "cell_type": "markdown",
   "metadata": {},
   "source": [
    "Load feature definitions to your feature group. "
   ]
  },
  {
   "cell_type": "code",
   "execution_count": 10,
   "metadata": {},
   "outputs": [
    {
     "data": {
      "text/plain": [
       "[FeatureDefinition(feature_name='customer_id', feature_type=<FeatureTypeEnum.INTEGRAL: 'Integral'>, collection_type=None),\n",
       " FeatureDefinition(feature_name='order_id', feature_type=<FeatureTypeEnum.INTEGRAL: 'Integral'>, collection_type=None),\n",
       " FeatureDefinition(feature_name='order_status', feature_type=<FeatureTypeEnum.INTEGRAL: 'Integral'>, collection_type=None),\n",
       " FeatureDefinition(feature_name='store_id', feature_type=<FeatureTypeEnum.INTEGRAL: 'Integral'>, collection_type=None),\n",
       " FeatureDefinition(feature_name='EventTime', feature_type=<FeatureTypeEnum.FRACTIONAL: 'Fractional'>, collection_type=None)]"
      ]
     },
     "execution_count": 10,
     "metadata": {},
     "output_type": "execute_result"
    }
   ],
   "source": [
    "customers_feature_group.load_feature_definitions(data_frame=customer_data)\n",
    "orders_feature_group.load_feature_definitions(data_frame=orders_data)"
   ]
  },
  {
   "cell_type": "markdown",
   "metadata": {},
   "source": [
    "Below we call create to create two feature groups, customers_feature_group and orders_feature_group respectively"
   ]
  },
  {
   "cell_type": "code",
   "execution_count": 11,
   "metadata": {},
   "outputs": [
    {
     "data": {
      "text/plain": [
       "{'FeatureGroupArn': 'arn:aws:sagemaker:us-east-1:624045005200:feature-group/orders-feature-group-22-08-57-48',\n",
       " 'ResponseMetadata': {'RequestId': 'c0822289-fdd2-4ed6-bde2-e06faabe0aad',\n",
       "  'HTTPStatusCode': 200,\n",
       "  'HTTPHeaders': {'x-amzn-requestid': 'c0822289-fdd2-4ed6-bde2-e06faabe0aad',\n",
       "   'content-type': 'application/x-amz-json-1.1',\n",
       "   'content-length': '109',\n",
       "   'date': 'Mon, 22 Jan 2024 08:57:55 GMT'},\n",
       "  'RetryAttempts': 3}}"
      ]
     },
     "execution_count": 11,
     "metadata": {},
     "output_type": "execute_result"
    }
   ],
   "source": [
    "customers_feature_group.create(\n",
    "    s3_uri=f\"s3://{s3_bucket_name}/{prefix}\",\n",
    "    record_identifier_name=record_identifier_feature_name,\n",
    "    event_time_feature_name=\"EventTime\",\n",
    "    role_arn=role,\n",
    "    enable_online_store=True,\n",
    ")\n",
    "\n",
    "orders_feature_group.create(\n",
    "    s3_uri=f\"s3://{s3_bucket_name}/{prefix}\",\n",
    "    record_identifier_name=record_identifier_feature_name,\n",
    "    event_time_feature_name=\"EventTime\",\n",
    "    role_arn=role,\n",
    "    enable_online_store=True,\n",
    ")"
   ]
  },
  {
   "cell_type": "markdown",
   "metadata": {},
   "source": [
    "To confirm that your FeatureGroup has been created we use `DescribeFeatureGroup` and `ListFeatureGroups` APIs to display the created FeatureGroup."
   ]
  },
  {
   "cell_type": "code",
   "execution_count": 12,
   "metadata": {},
   "outputs": [
    {
     "data": {
      "text/plain": [
       "{'FeatureGroupArn': 'arn:aws:sagemaker:us-east-1:624045005200:feature-group/customers-feature-group-22-08-57-48',\n",
       " 'FeatureGroupName': 'customers-feature-group-22-08-57-48',\n",
       " 'RecordIdentifierFeatureName': 'customer_id',\n",
       " 'EventTimeFeatureName': 'EventTime',\n",
       " 'FeatureDefinitions': [{'FeatureName': 'customer_id',\n",
       "   'FeatureType': 'Integral'},\n",
       "  {'FeatureName': 'city_code', 'FeatureType': 'Integral'},\n",
       "  {'FeatureName': 'state_code', 'FeatureType': 'Integral'},\n",
       "  {'FeatureName': 'country_code', 'FeatureType': 'Integral'},\n",
       "  {'FeatureName': 'EventTime', 'FeatureType': 'Fractional'}],\n",
       " 'CreationTime': datetime.datetime(2024, 1, 22, 8, 57, 53, 191000, tzinfo=tzlocal()),\n",
       " 'OnlineStoreConfig': {'EnableOnlineStore': True},\n",
       " 'OfflineStoreConfig': {'S3StorageConfig': {'S3Uri': 's3://sagemaker-us-east-1-624045005200/sagemaker-featurestore-introduction',\n",
       "   'ResolvedOutputS3Uri': 's3://sagemaker-us-east-1-624045005200/sagemaker-featurestore-introduction/624045005200/sagemaker/us-east-1/offline-store/customers-feature-group-22-08-57-48-1705913873/data'},\n",
       "  'DisableGlueTableCreation': False},\n",
       " 'RoleArn': 'arn:aws:iam::624045005200:role/Admin_role_for_SageMaker',\n",
       " 'FeatureGroupStatus': 'Creating',\n",
       " 'ResponseMetadata': {'RequestId': 'cc620b75-0039-4115-b706-891e1994bcdf',\n",
       "  'HTTPStatusCode': 200,\n",
       "  'HTTPHeaders': {'x-amzn-requestid': 'cc620b75-0039-4115-b706-891e1994bcdf',\n",
       "   'content-type': 'application/x-amz-json-1.1',\n",
       "   'content-length': '1546',\n",
       "   'date': 'Mon, 22 Jan 2024 08:57:55 GMT'},\n",
       "  'RetryAttempts': 0}}"
      ]
     },
     "execution_count": 12,
     "metadata": {},
     "output_type": "execute_result"
    }
   ],
   "source": [
    "customers_feature_group.describe()"
   ]
  },
  {
   "cell_type": "code",
   "execution_count": 13,
   "metadata": {},
   "outputs": [
    {
     "data": {
      "text/plain": [
       "{'FeatureGroupArn': 'arn:aws:sagemaker:us-east-1:624045005200:feature-group/orders-feature-group-22-08-57-48',\n",
       " 'FeatureGroupName': 'orders-feature-group-22-08-57-48',\n",
       " 'RecordIdentifierFeatureName': 'customer_id',\n",
       " 'EventTimeFeatureName': 'EventTime',\n",
       " 'FeatureDefinitions': [{'FeatureName': 'customer_id',\n",
       "   'FeatureType': 'Integral'},\n",
       "  {'FeatureName': 'order_id', 'FeatureType': 'Integral'},\n",
       "  {'FeatureName': 'order_status', 'FeatureType': 'Integral'},\n",
       "  {'FeatureName': 'store_id', 'FeatureType': 'Integral'},\n",
       "  {'FeatureName': 'EventTime', 'FeatureType': 'Fractional'}],\n",
       " 'CreationTime': datetime.datetime(2024, 1, 22, 8, 57, 55, 631000, tzinfo=tzlocal()),\n",
       " 'OnlineStoreConfig': {'EnableOnlineStore': True},\n",
       " 'OfflineStoreConfig': {'S3StorageConfig': {'S3Uri': 's3://sagemaker-us-east-1-624045005200/sagemaker-featurestore-introduction',\n",
       "   'ResolvedOutputS3Uri': 's3://sagemaker-us-east-1-624045005200/sagemaker-featurestore-introduction/624045005200/sagemaker/us-east-1/offline-store/orders-feature-group-22-08-57-48-1705913875/data'},\n",
       "  'DisableGlueTableCreation': False},\n",
       " 'RoleArn': 'arn:aws:iam::624045005200:role/Admin_role_for_SageMaker',\n",
       " 'FeatureGroupStatus': 'Creating',\n",
       " 'ResponseMetadata': {'RequestId': '2b53ce29-d847-40c6-8a4f-406b9b72e5d3',\n",
       "  'HTTPStatusCode': 200,\n",
       "  'HTTPHeaders': {'x-amzn-requestid': '2b53ce29-d847-40c6-8a4f-406b9b72e5d3',\n",
       "   'content-type': 'application/x-amz-json-1.1',\n",
       "   'content-length': '1534',\n",
       "   'date': 'Mon, 22 Jan 2024 08:57:56 GMT'},\n",
       "  'RetryAttempts': 0}}"
      ]
     },
     "execution_count": 13,
     "metadata": {},
     "output_type": "execute_result"
    }
   ],
   "source": [
    "orders_feature_group.describe()"
   ]
  },
  {
   "cell_type": "code",
   "execution_count": 14,
   "metadata": {},
   "outputs": [
    {
     "data": {
      "text/plain": [
       "{'FeatureGroupSummaries': [{'FeatureGroupName': 'orders-feature-group-22-08-57-48',\n",
       "   'FeatureGroupArn': 'arn:aws:sagemaker:us-east-1:624045005200:feature-group/orders-feature-group-22-08-57-48',\n",
       "   'CreationTime': datetime.datetime(2024, 1, 22, 8, 57, 55, 631000, tzinfo=tzlocal()),\n",
       "   'FeatureGroupStatus': 'Creating'},\n",
       "  {'FeatureGroupName': 'jjjj',\n",
       "   'FeatureGroupArn': 'arn:aws:sagemaker:us-east-1:624045005200:feature-group/jjjj',\n",
       "   'CreationTime': datetime.datetime(2024, 1, 19, 5, 50, 14, 1000, tzinfo=tzlocal()),\n",
       "   'FeatureGroupStatus': 'Created'},\n",
       "  {'FeatureGroupName': 'customers-feature-group-22-08-57-48',\n",
       "   'FeatureGroupArn': 'arn:aws:sagemaker:us-east-1:624045005200:feature-group/customers-feature-group-22-08-57-48',\n",
       "   'CreationTime': datetime.datetime(2024, 1, 22, 8, 57, 53, 191000, tzinfo=tzlocal()),\n",
       "   'FeatureGroupStatus': 'Creating'}],\n",
       " 'ResponseMetadata': {'RequestId': '63ec7148-1d3b-4666-8721-4d6b458d2067',\n",
       "  'HTTPStatusCode': 200,\n",
       "  'HTTPHeaders': {'x-amzn-requestid': '63ec7148-1d3b-4666-8721-4d6b458d2067',\n",
       "   'content-type': 'application/x-amz-json-1.1',\n",
       "   'content-length': '660',\n",
       "   'date': 'Mon, 22 Jan 2024 08:57:56 GMT'},\n",
       "  'RetryAttempts': 0}}"
      ]
     },
     "execution_count": 14,
     "metadata": {},
     "output_type": "execute_result"
    }
   ],
   "source": [
    "sagemaker_session.boto_session.client(\n",
    "    \"sagemaker\", region_name=region\n",
    ").list_feature_groups()  # We use the boto client to list FeatureGroups"
   ]
  },
  {
   "cell_type": "code",
   "execution_count": 15,
   "metadata": {},
   "outputs": [
    {
     "name": "stdout",
     "output_type": "stream",
     "text": [
      "Waiting for Feature Group to be Created\n",
      "Waiting for Feature Group to be Created\n",
      "FeatureGroup customers-feature-group-22-08-57-48 successfully created.\n",
      "Waiting for Feature Group to be Created\n",
      "FeatureGroup orders-feature-group-22-08-57-48 successfully created.\n"
     ]
    }
   ],
   "source": [
    "def check_feature_group_status(feature_group):\n",
    "    status = feature_group.describe().get(\"FeatureGroupStatus\")\n",
    "    while status == \"Creating\":\n",
    "        print(\"Waiting for Feature Group to be Created\")\n",
    "        time.sleep(5)\n",
    "        status = feature_group.describe().get(\"FeatureGroupStatus\")\n",
    "    print(f\"FeatureGroup {feature_group.name} successfully created.\")\n",
    "\n",
    "\n",
    "check_feature_group_status(customers_feature_group)\n",
    "check_feature_group_status(orders_feature_group)"
   ]
  },
  {
   "cell_type": "markdown",
   "metadata": {},
   "source": [
    "### Add metadata to a feature\n",
    "\n",
    "We can add searchable metadata fields to FeatureGroup features by using the `UpdateFeatureMetadata` API. The currently supported metadata fields are `description` and `parameters`."
   ]
  },
  {
   "cell_type": "code",
   "execution_count": 16,
   "metadata": {},
   "outputs": [
    {
     "data": {
      "text/plain": [
       "{'ResponseMetadata': {'RequestId': 'd6113308-55b2-4743-91bc-a261037d807c',\n",
       "  'HTTPStatusCode': 200,\n",
       "  'HTTPHeaders': {'x-amzn-requestid': 'd6113308-55b2-4743-91bc-a261037d807c',\n",
       "   'content-type': 'application/x-amz-json-1.1',\n",
       "   'content-length': '0',\n",
       "   'date': 'Mon, 22 Jan 2024 08:58:15 GMT'},\n",
       "  'RetryAttempts': 0}}"
      ]
     },
     "execution_count": 16,
     "metadata": {},
     "output_type": "execute_result"
    }
   ],
   "source": [
    "from sagemaker.feature_store.inputs import FeatureParameter\n",
    "\n",
    "customers_feature_group.update_feature_metadata(\n",
    "    feature_name=\"customer_id\",\n",
    "    description=\"The ID of a customer. It is also used in orders_feature_group.\",\n",
    "    parameter_additions=[FeatureParameter(\"idType\", \"primaryKey\")],\n",
    ")"
   ]
  },
  {
   "cell_type": "markdown",
   "metadata": {},
   "source": [
    "To view feature metadata, we can use `DescribeFeatureMetadata` to display that feature."
   ]
  },
  {
   "cell_type": "code",
   "execution_count": 17,
   "metadata": {},
   "outputs": [
    {
     "data": {
      "text/plain": [
       "{'FeatureGroupArn': 'arn:aws:sagemaker:us-east-1:624045005200:feature-group/customers-feature-group-22-08-57-48',\n",
       " 'FeatureGroupName': 'customers-feature-group-22-08-57-48',\n",
       " 'FeatureName': 'customer_id',\n",
       " 'FeatureType': 'Integral',\n",
       " 'CreationTime': datetime.datetime(2024, 1, 22, 8, 57, 53, 191000, tzinfo=tzlocal()),\n",
       " 'LastModifiedTime': datetime.datetime(2024, 1, 22, 8, 58, 16, 690000, tzinfo=tzlocal()),\n",
       " 'Description': 'The ID of a customer. It is also used in orders_feature_group.',\n",
       " 'Parameters': [{'Key': 'idType', 'Value': 'primaryKey'}],\n",
       " 'ResponseMetadata': {'RequestId': '5ca039cc-d183-4d13-ac8e-c28a6061d5c9',\n",
       "  'HTTPStatusCode': 200,\n",
       "  'HTTPHeaders': {'x-amzn-requestid': '5ca039cc-d183-4d13-ac8e-c28a6061d5c9',\n",
       "   'content-type': 'application/x-amz-json-1.1',\n",
       "   'content-length': '421',\n",
       "   'date': 'Mon, 22 Jan 2024 08:58:16 GMT'},\n",
       "  'RetryAttempts': 0}}"
      ]
     },
     "execution_count": 17,
     "metadata": {},
     "output_type": "execute_result"
    }
   ],
   "source": [
    "customers_feature_group.describe_feature_metadata(feature_name=\"customer_id\")"
   ]
  },
  {
   "cell_type": "markdown",
   "metadata": {},
   "source": [
    "Feature metadata fields are searchable. We use `search` API to find features with metadata that matches some search criteria."
   ]
  },
  {
   "cell_type": "code",
   "execution_count": 18,
   "metadata": {},
   "outputs": [
    {
     "data": {
      "text/plain": [
       "{'Results': [],\n",
       " 'ResponseMetadata': {'RequestId': '4e267efd-84a3-45ce-b3b0-6bdbdefca5d5',\n",
       "  'HTTPStatusCode': 200,\n",
       "  'HTTPHeaders': {'x-amzn-requestid': '4e267efd-84a3-45ce-b3b0-6bdbdefca5d5',\n",
       "   'content-type': 'application/x-amz-json-1.1',\n",
       "   'content-length': '14',\n",
       "   'date': 'Mon, 22 Jan 2024 08:58:16 GMT'},\n",
       "  'RetryAttempts': 0}}"
      ]
     },
     "execution_count": 18,
     "metadata": {},
     "output_type": "execute_result"
    }
   ],
   "source": [
    "sagemaker_session.boto_session.client(\"sagemaker\", region_name=region).search(\n",
    "    Resource=\"FeatureMetadata\",\n",
    "    SearchExpression={\n",
    "        \"Filters\": [\n",
    "            {\n",
    "                \"Name\": \"FeatureGroupName\",\n",
    "                \"Operator\": \"Contains\",\n",
    "                \"Value\": \"customers-feature-group-\",\n",
    "            },\n",
    "            {\"Name\": \"Parameters.idType\", \"Operator\": \"Equals\", \"Value\": \"primaryKey\"},\n",
    "        ]\n",
    "    },\n",
    ")  # We use the boto client to search"
   ]
  },
  {
   "cell_type": "markdown",
   "metadata": {},
   "source": [
    "### Ingest data into a feature group\n",
    "\n",
    "We can put data into the FeatureGroup by using the `PutRecord` API. It will take < 1 minute to ingest data."
   ]
  },
  {
   "cell_type": "code",
   "execution_count": 19,
   "metadata": {},
   "outputs": [
    {
     "data": {
      "text/plain": [
       "IngestionManagerPandas(feature_group_name='customers-feature-group-22-08-57-48', sagemaker_fs_runtime_client_config=<botocore.config.Config object at 0x7f697dd4b1c0>, sagemaker_session=<sagemaker.session.Session object at 0x7f697ed58d60>, max_workers=3, max_processes=1, profile_name=None, _async_result=<multiprocess.pool.MapResult object at 0x7f697e7e8c70>, _processing_pool=<pool ProcessPool(ncpus=1)>, _failed_indices=[])"
      ]
     },
     "execution_count": 19,
     "metadata": {},
     "output_type": "execute_result"
    }
   ],
   "source": [
    "customers_feature_group.ingest(data_frame=customer_data, max_workers=3, wait=True)"
   ]
  },
  {
   "cell_type": "code",
   "execution_count": 20,
   "metadata": {},
   "outputs": [
    {
     "data": {
      "text/plain": [
       "IngestionManagerPandas(feature_group_name='orders-feature-group-22-08-57-48', sagemaker_fs_runtime_client_config=<botocore.config.Config object at 0x7f697dd4b1c0>, sagemaker_session=<sagemaker.session.Session object at 0x7f697ed58d60>, max_workers=3, max_processes=1, profile_name=None, _async_result=<multiprocess.pool.MapResult object at 0x7f697e7e8250>, _processing_pool=<pool ProcessPool(ncpus=1)>, _failed_indices=[])"
      ]
     },
     "execution_count": 20,
     "metadata": {},
     "output_type": "execute_result"
    }
   ],
   "source": [
    "orders_feature_group.ingest(data_frame=orders_data, max_workers=3, wait=True)"
   ]
  },
  {
   "cell_type": "markdown",
   "metadata": {},
   "source": [
    "Using an arbitrary customer record ID, 573291 we use `get_record` to check that the data has been ingested into the feature group."
   ]
  },
  {
   "cell_type": "code",
   "execution_count": 21,
   "metadata": {},
   "outputs": [],
   "source": [
    "customer_id = 573291\n",
    "sample_record = sagemaker_session.boto_session.client(\n",
    "    \"sagemaker-featurestore-runtime\", region_name=region\n",
    ").get_record(\n",
    "    FeatureGroupName=customers_feature_group_name, RecordIdentifierValueAsString=str(customer_id)\n",
    ")"
   ]
  },
  {
   "cell_type": "code",
   "execution_count": 22,
   "metadata": {},
   "outputs": [
    {
     "data": {
      "text/plain": [
       "{'ResponseMetadata': {'RequestId': 'eb576181-5ef3-416d-8ee9-f8320ffc754c',\n",
       "  'HTTPStatusCode': 200,\n",
       "  'HTTPHeaders': {'x-amzn-requestid': 'eb576181-5ef3-416d-8ee9-f8320ffc754c',\n",
       "   'content-type': 'application/json',\n",
       "   'content-length': '417',\n",
       "   'date': 'Mon, 22 Jan 2024 08:58:18 GMT'},\n",
       "  'RetryAttempts': 0},\n",
       " 'Record': [{'FeatureName': 'customer_id', 'ValueAsString': '573291'},\n",
       "  {'FeatureName': 'city_code', 'ValueAsString': '1'},\n",
       "  {'FeatureName': 'state_code', 'ValueAsString': '49'},\n",
       "  {'FeatureName': 'country_code', 'ValueAsString': '2'},\n",
       "  {'FeatureName': 'EventTime', 'ValueAsString': '1705913871.0'}]}"
      ]
     },
     "execution_count": 22,
     "metadata": {},
     "output_type": "execute_result"
    }
   ],
   "source": [
    "sample_record"
   ]
  },
  {
   "cell_type": "markdown",
   "metadata": {},
   "source": [
    "We use `batch_get_record` to check that all data has been ingested into two feature groups by providing customer IDs."
   ]
  },
  {
   "cell_type": "code",
   "execution_count": 23,
   "metadata": {},
   "outputs": [],
   "source": [
    "all_records = sagemaker_session.boto_session.client(\n",
    "    \"sagemaker-featurestore-runtime\", region_name=region\n",
    ").batch_get_record(\n",
    "    Identifiers=[\n",
    "        {\n",
    "            \"FeatureGroupName\": customers_feature_group_name,\n",
    "            \"RecordIdentifiersValueAsString\": [\"573291\", \"109382\", \"828400\", \"124013\"],\n",
    "        },\n",
    "        {\n",
    "            \"FeatureGroupName\": orders_feature_group_name,\n",
    "            \"RecordIdentifiersValueAsString\": [\"573291\", \"109382\", \"828400\", \"124013\"],\n",
    "        },\n",
    "    ]\n",
    ")"
   ]
  },
  {
   "cell_type": "code",
   "execution_count": 24,
   "metadata": {},
   "outputs": [
    {
     "data": {
      "text/plain": [
       "{'ResponseMetadata': {'RequestId': '58650ea4-8a21-4406-b2e2-26cc57d609f2',\n",
       "  'HTTPStatusCode': 200,\n",
       "  'HTTPHeaders': {'x-amzn-requestid': '58650ea4-8a21-4406-b2e2-26cc57d609f2',\n",
       "   'content-type': 'application/json',\n",
       "   'content-length': '4172',\n",
       "   'date': 'Mon, 22 Jan 2024 08:58:20 GMT'},\n",
       "  'RetryAttempts': 0},\n",
       " 'Records': [{'FeatureGroupName': 'customers-feature-group-22-08-57-48',\n",
       "   'RecordIdentifierValueAsString': '573291',\n",
       "   'Record': [{'FeatureName': 'customer_id', 'ValueAsString': '573291'},\n",
       "    {'FeatureName': 'city_code', 'ValueAsString': '1'},\n",
       "    {'FeatureName': 'state_code', 'ValueAsString': '49'},\n",
       "    {'FeatureName': 'country_code', 'ValueAsString': '2'},\n",
       "    {'FeatureName': 'EventTime', 'ValueAsString': '1705913871.0'}]},\n",
       "  {'FeatureGroupName': 'customers-feature-group-22-08-57-48',\n",
       "   'RecordIdentifierValueAsString': '109382',\n",
       "   'Record': [{'FeatureName': 'customer_id', 'ValueAsString': '109382'},\n",
       "    {'FeatureName': 'city_code', 'ValueAsString': '2'},\n",
       "    {'FeatureName': 'state_code', 'ValueAsString': '40'},\n",
       "    {'FeatureName': 'country_code', 'ValueAsString': '2'},\n",
       "    {'FeatureName': 'EventTime', 'ValueAsString': '1705913871.0'}]},\n",
       "  {'FeatureGroupName': 'customers-feature-group-22-08-57-48',\n",
       "   'RecordIdentifierValueAsString': '124013',\n",
       "   'Record': [{'FeatureName': 'customer_id', 'ValueAsString': '124013'},\n",
       "    {'FeatureName': 'city_code', 'ValueAsString': '4'},\n",
       "    {'FeatureName': 'state_code', 'ValueAsString': '5'},\n",
       "    {'FeatureName': 'country_code', 'ValueAsString': '2'},\n",
       "    {'FeatureName': 'EventTime', 'ValueAsString': '1705913871.0'}]},\n",
       "  {'FeatureGroupName': 'customers-feature-group-22-08-57-48',\n",
       "   'RecordIdentifierValueAsString': '828400',\n",
       "   'Record': [{'FeatureName': 'customer_id', 'ValueAsString': '828400'},\n",
       "    {'FeatureName': 'city_code', 'ValueAsString': '3'},\n",
       "    {'FeatureName': 'state_code', 'ValueAsString': '31'},\n",
       "    {'FeatureName': 'country_code', 'ValueAsString': '2'},\n",
       "    {'FeatureName': 'EventTime', 'ValueAsString': '1705913871.0'}]},\n",
       "  {'FeatureGroupName': 'orders-feature-group-22-08-57-48',\n",
       "   'RecordIdentifierValueAsString': '573291',\n",
       "   'Record': [{'FeatureName': 'customer_id', 'ValueAsString': '573291'},\n",
       "    {'FeatureName': 'order_id', 'ValueAsString': '4132'},\n",
       "    {'FeatureName': 'order_status', 'ValueAsString': '1'},\n",
       "    {'FeatureName': 'store_id', 'ValueAsString': '303'},\n",
       "    {'FeatureName': 'EventTime', 'ValueAsString': '1705913871.0'}]},\n",
       "  {'FeatureGroupName': 'orders-feature-group-22-08-57-48',\n",
       "   'RecordIdentifierValueAsString': '109382',\n",
       "   'Record': [{'FeatureName': 'customer_id', 'ValueAsString': '109382'},\n",
       "    {'FeatureName': 'order_id', 'ValueAsString': '5724'},\n",
       "    {'FeatureName': 'order_status', 'ValueAsString': '0'},\n",
       "    {'FeatureName': 'store_id', 'ValueAsString': '201'},\n",
       "    {'FeatureName': 'EventTime', 'ValueAsString': '1705913871.0'}]},\n",
       "  {'FeatureGroupName': 'orders-feature-group-22-08-57-48',\n",
       "   'RecordIdentifierValueAsString': '124013',\n",
       "   'Record': [{'FeatureName': 'customer_id', 'ValueAsString': '124013'},\n",
       "    {'FeatureName': 'order_id', 'ValueAsString': '6782'},\n",
       "    {'FeatureName': 'order_status', 'ValueAsString': '1'},\n",
       "    {'FeatureName': 'store_id', 'ValueAsString': '213'},\n",
       "    {'FeatureName': 'EventTime', 'ValueAsString': '1705913871.0'}]},\n",
       "  {'FeatureGroupName': 'orders-feature-group-22-08-57-48',\n",
       "   'RecordIdentifierValueAsString': '828400',\n",
       "   'Record': [{'FeatureName': 'customer_id', 'ValueAsString': '828400'},\n",
       "    {'FeatureName': 'order_id', 'ValueAsString': '1942'},\n",
       "    {'FeatureName': 'order_status', 'ValueAsString': '0'},\n",
       "    {'FeatureName': 'store_id', 'ValueAsString': '431'},\n",
       "    {'FeatureName': 'EventTime', 'ValueAsString': '1705913871.0'}]}],\n",
       " 'Errors': [],\n",
       " 'UnprocessedIdentifiers': []}"
      ]
     },
     "execution_count": 24,
     "metadata": {},
     "output_type": "execute_result"
    }
   ],
   "source": [
    "all_records"
   ]
  },
  {
   "cell_type": "markdown",
   "metadata": {},
   "source": [
    "### Add features to a feature group\n",
    "\n",
    "If we want to update a FeatureGroup that has done the data ingestion, we can use the `UpdateFeatureGroup` API and then re-ingest data by using the updated dataset."
   ]
  },
  {
   "cell_type": "code",
   "execution_count": 25,
   "metadata": {},
   "outputs": [
    {
     "data": {
      "text/plain": [
       "{'FeatureGroupArn': 'arn:aws:sagemaker:us-east-1:624045005200:feature-group/customers-feature-group-22-08-57-48',\n",
       " 'ResponseMetadata': {'RequestId': 'aaecd46d-0413-41ec-9944-98aaa08f7d00',\n",
       "  'HTTPStatusCode': 200,\n",
       "  'HTTPHeaders': {'x-amzn-requestid': 'aaecd46d-0413-41ec-9944-98aaa08f7d00',\n",
       "   'content-type': 'application/x-amz-json-1.1',\n",
       "   'content-length': '112',\n",
       "   'date': 'Mon, 22 Jan 2024 08:58:21 GMT'},\n",
       "  'RetryAttempts': 0}}"
      ]
     },
     "execution_count": 25,
     "metadata": {},
     "output_type": "execute_result"
    }
   ],
   "source": [
    "from sagemaker.feature_store.feature_definition import StringFeatureDefinition\n",
    "\n",
    "customers_feature_group.update(\n",
    "    feature_additions=[StringFeatureDefinition(\"email\"), StringFeatureDefinition(\"name\")]\n",
    ")"
   ]
  },
  {
   "cell_type": "markdown",
   "metadata": {},
   "source": [
    "Verify the FeatureGroup has been updated successfully or not."
   ]
  },
  {
   "cell_type": "code",
   "execution_count": 26,
   "metadata": {},
   "outputs": [
    {
     "name": "stdout",
     "output_type": "stream",
     "text": [
      "Waiting for FeatureGroup to be updated\n",
      "FeatureGroup customers-feature-group-22-08-57-48 updated failed. The LastUpdateStatus is{'Status': 'InProgress'}\n"
     ]
    }
   ],
   "source": [
    "def check_last_update_status(feature_group):\n",
    "    last_update_status = feature_group.describe().get(\"LastUpdateStatus\")[\"Status\"]\n",
    "    while last_update_status == \"InProgress\":\n",
    "        print(\"Waiting for FeatureGroup to be updated\")\n",
    "        time.sleep(5)\n",
    "        last_update_status = feature_group.describe().get(\"LastUpdateStatus\")\n",
    "    if last_update_status == \"Successful\":\n",
    "        print(f\"FeatureGroup {feature_group.name} successfully updated.\")\n",
    "    else:\n",
    "        print(\n",
    "            f\"FeatureGroup {feature_group.name} updated failed. The LastUpdateStatus is\"\n",
    "            + str(last_update_status)\n",
    "        )\n",
    "\n",
    "\n",
    "check_last_update_status(customers_feature_group)"
   ]
  },
  {
   "cell_type": "markdown",
   "metadata": {},
   "source": [
    "Inspect the new dataset."
   ]
  },
  {
   "cell_type": "code",
   "execution_count": 27,
   "metadata": {},
   "outputs": [],
   "source": [
    "customer_data_updated = pd.read_csv(\"data/feature_store_introduction_customer_updated.csv\")"
   ]
  },
  {
   "cell_type": "code",
   "execution_count": 28,
   "metadata": {},
   "outputs": [
    {
     "data": {
      "text/html": [
       "<div>\n",
       "<style scoped>\n",
       "    .dataframe tbody tr th:only-of-type {\n",
       "        vertical-align: middle;\n",
       "    }\n",
       "\n",
       "    .dataframe tbody tr th {\n",
       "        vertical-align: top;\n",
       "    }\n",
       "\n",
       "    .dataframe thead th {\n",
       "        text-align: right;\n",
       "    }\n",
       "</style>\n",
       "<table border=\"1\" class=\"dataframe\">\n",
       "  <thead>\n",
       "    <tr style=\"text-align: right;\">\n",
       "      <th></th>\n",
       "      <th>customer_id</th>\n",
       "      <th>city_code</th>\n",
       "      <th>state_code</th>\n",
       "      <th>country_code</th>\n",
       "      <th>email</th>\n",
       "      <th>name</th>\n",
       "    </tr>\n",
       "  </thead>\n",
       "  <tbody>\n",
       "    <tr>\n",
       "      <th>0</th>\n",
       "      <td>573291</td>\n",
       "      <td>1</td>\n",
       "      <td>49</td>\n",
       "      <td>2</td>\n",
       "      <td>john.lee@gmail.com</td>\n",
       "      <td>John Lee</td>\n",
       "    </tr>\n",
       "    <tr>\n",
       "      <th>1</th>\n",
       "      <td>109382</td>\n",
       "      <td>2</td>\n",
       "      <td>40</td>\n",
       "      <td>2</td>\n",
       "      <td>olivequil@gmail.com</td>\n",
       "      <td>Olive Quil</td>\n",
       "    </tr>\n",
       "    <tr>\n",
       "      <th>2</th>\n",
       "      <td>828400</td>\n",
       "      <td>3</td>\n",
       "      <td>31</td>\n",
       "      <td>2</td>\n",
       "      <td>liz.knee@gmail.com</td>\n",
       "      <td>Liz Knee</td>\n",
       "    </tr>\n",
       "    <tr>\n",
       "      <th>3</th>\n",
       "      <td>124013</td>\n",
       "      <td>4</td>\n",
       "      <td>5</td>\n",
       "      <td>2</td>\n",
       "      <td>eileenbook@gmail.com</td>\n",
       "      <td>Eileen Book</td>\n",
       "    </tr>\n",
       "  </tbody>\n",
       "</table>\n",
       "</div>"
      ],
      "text/plain": [
       "   customer_id  city_code  state_code  country_code                 email  \\\n",
       "0       573291          1          49             2    john.lee@gmail.com   \n",
       "1       109382          2          40             2   olivequil@gmail.com   \n",
       "2       828400          3          31             2    liz.knee@gmail.com   \n",
       "3       124013          4           5             2  eileenbook@gmail.com   \n",
       "\n",
       "          name  \n",
       "0     John Lee  \n",
       "1   Olive Quil  \n",
       "2     Liz Knee  \n",
       "3  Eileen Book  "
      ]
     },
     "execution_count": 28,
     "metadata": {},
     "output_type": "execute_result"
    }
   ],
   "source": [
    "customer_data_updated.head()"
   ]
  },
  {
   "cell_type": "markdown",
   "metadata": {},
   "source": [
    "Append `EventTime` feature to your data frame again."
   ]
  },
  {
   "cell_type": "code",
   "execution_count": 29,
   "metadata": {},
   "outputs": [],
   "source": [
    "customer_data_updated[\"EventTime\"] = pd.Series(\n",
    "    [current_time_sec] * len(customer_data), dtype=\"float64\"\n",
    ")"
   ]
  },
  {
   "cell_type": "markdown",
   "metadata": {},
   "source": [
    "Ingest the new dataset."
   ]
  },
  {
   "cell_type": "code",
   "execution_count": 32,
   "metadata": {},
   "outputs": [
    {
     "data": {
      "text/plain": [
       "IngestionManagerPandas(feature_group_name='customers-feature-group-22-08-57-48', sagemaker_fs_runtime_client_config=<botocore.config.Config object at 0x7f697dd4b1c0>, sagemaker_session=<sagemaker.session.Session object at 0x7f697ed58d60>, max_workers=3, max_processes=1, profile_name=None, _async_result=<multiprocess.pool.MapResult object at 0x7f697e777700>, _processing_pool=<pool ProcessPool(ncpus=1)>, _failed_indices=[])"
      ]
     },
     "execution_count": 32,
     "metadata": {},
     "output_type": "execute_result"
    }
   ],
   "source": [
    "customers_feature_group.ingest(data_frame=customer_data_updated, max_workers=3, wait=True)"
   ]
  },
  {
   "cell_type": "markdown",
   "metadata": {},
   "source": [
    "Use `batch_get_record` again to check that all updated data has been ingested into `customers_feature_group` by providing customer IDs."
   ]
  },
  {
   "cell_type": "code",
   "execution_count": 33,
   "metadata": {},
   "outputs": [],
   "source": [
    "updated_customers_records = sagemaker_session.boto_session.client(\n",
    "    \"sagemaker-featurestore-runtime\", region_name=region\n",
    ").batch_get_record(\n",
    "    Identifiers=[\n",
    "        {\n",
    "            \"FeatureGroupName\": customers_feature_group_name,\n",
    "            \"RecordIdentifiersValueAsString\": [\"573291\", \"109382\", \"828400\", \"124013\"],\n",
    "        }\n",
    "    ]\n",
    ")"
   ]
  },
  {
   "cell_type": "code",
   "execution_count": 34,
   "metadata": {},
   "outputs": [
    {
     "data": {
      "text/plain": [
       "{'ResponseMetadata': {'RequestId': '155f42b8-dba4-4017-86cb-9468f3f20460',\n",
       "  'HTTPStatusCode': 200,\n",
       "  'HTTPHeaders': {'x-amzn-requestid': '155f42b8-dba4-4017-86cb-9468f3f20460',\n",
       "   'content-type': 'application/json',\n",
       "   'content-length': '2768',\n",
       "   'date': 'Mon, 22 Jan 2024 08:58:47 GMT'},\n",
       "  'RetryAttempts': 0},\n",
       " 'Records': [{'FeatureGroupName': 'customers-feature-group-22-08-57-48',\n",
       "   'RecordIdentifierValueAsString': '573291',\n",
       "   'Record': [{'FeatureName': 'customer_id', 'ValueAsString': '573291'},\n",
       "    {'FeatureName': 'city_code', 'ValueAsString': '1'},\n",
       "    {'FeatureName': 'state_code', 'ValueAsString': '49'},\n",
       "    {'FeatureName': 'country_code', 'ValueAsString': '2'},\n",
       "    {'FeatureName': 'EventTime', 'ValueAsString': '1705913871.0'},\n",
       "    {'FeatureName': 'email', 'ValueAsString': 'john.lee@gmail.com'},\n",
       "    {'FeatureName': 'name', 'ValueAsString': 'John Lee'}]},\n",
       "  {'FeatureGroupName': 'customers-feature-group-22-08-57-48',\n",
       "   'RecordIdentifierValueAsString': '109382',\n",
       "   'Record': [{'FeatureName': 'customer_id', 'ValueAsString': '109382'},\n",
       "    {'FeatureName': 'city_code', 'ValueAsString': '2'},\n",
       "    {'FeatureName': 'state_code', 'ValueAsString': '40'},\n",
       "    {'FeatureName': 'country_code', 'ValueAsString': '2'},\n",
       "    {'FeatureName': 'EventTime', 'ValueAsString': '1705913871.0'},\n",
       "    {'FeatureName': 'email', 'ValueAsString': 'olivequil@gmail.com'},\n",
       "    {'FeatureName': 'name', 'ValueAsString': 'Olive Quil'}]},\n",
       "  {'FeatureGroupName': 'customers-feature-group-22-08-57-48',\n",
       "   'RecordIdentifierValueAsString': '124013',\n",
       "   'Record': [{'FeatureName': 'customer_id', 'ValueAsString': '124013'},\n",
       "    {'FeatureName': 'city_code', 'ValueAsString': '4'},\n",
       "    {'FeatureName': 'state_code', 'ValueAsString': '5'},\n",
       "    {'FeatureName': 'country_code', 'ValueAsString': '2'},\n",
       "    {'FeatureName': 'EventTime', 'ValueAsString': '1705913871.0'},\n",
       "    {'FeatureName': 'email', 'ValueAsString': 'eileenbook@gmail.com'},\n",
       "    {'FeatureName': 'name', 'ValueAsString': 'Eileen Book'}]},\n",
       "  {'FeatureGroupName': 'customers-feature-group-22-08-57-48',\n",
       "   'RecordIdentifierValueAsString': '828400',\n",
       "   'Record': [{'FeatureName': 'customer_id', 'ValueAsString': '828400'},\n",
       "    {'FeatureName': 'city_code', 'ValueAsString': '3'},\n",
       "    {'FeatureName': 'state_code', 'ValueAsString': '31'},\n",
       "    {'FeatureName': 'country_code', 'ValueAsString': '2'},\n",
       "    {'FeatureName': 'EventTime', 'ValueAsString': '1705913871.0'},\n",
       "    {'FeatureName': 'email', 'ValueAsString': 'liz.knee@gmail.com'},\n",
       "    {'FeatureName': 'name', 'ValueAsString': 'Liz Knee'}]}],\n",
       " 'Errors': [],\n",
       " 'UnprocessedIdentifiers': []}"
      ]
     },
     "execution_count": 34,
     "metadata": {},
     "output_type": "execute_result"
    }
   ],
   "source": [
    "updated_customers_records"
   ]
  },
  {
   "cell_type": "markdown",
   "metadata": {},
   "source": [
    "### Clean up\n",
    "Here we remove the Feature Groups we created. "
   ]
  },
  {
   "cell_type": "code",
   "execution_count": 35,
   "metadata": {},
   "outputs": [],
   "source": [
    "customers_feature_group.delete()\n",
    "orders_feature_group.delete()"
   ]
  },
  {
   "cell_type": "markdown",
   "metadata": {},
   "source": [
    "### Next steps"
   ]
  },
  {
   "cell_type": "markdown",
   "metadata": {},
   "source": [
    "In this notebook you learned how to quickly get started with Feature Store and now know how to create feature groups, and ingest data into them.\n",
    "\n",
    "For an advanced example on how to use Feature Store for a Fraud Detection use-case, see [Fraud Detection with Feature Store](https://sagemaker-examples.readthedocs.io/en/latest/sagemaker-featurestore/sagemaker_featurestore_fraud_detection_python_sdk.html).\n",
    "\n",
    "For detailed information about Feature Store, see the [Developer Guide](https://docs.aws.amazon.com/sagemaker/latest/dg/feature-store.html).\n"
   ]
  },
  {
   "cell_type": "markdown",
   "metadata": {},
   "source": [
    "### Programmers note"
   ]
  },
  {
   "cell_type": "markdown",
   "metadata": {},
   "source": [
    "In this notebook we used a variety of different API calls. Most of them are accessible through the Python SDK, however some only exist within `boto3`. You can invoke the Python SDK API calls directly on your Feature Store objects, whereas to invoke API calls that exist within `boto3`, you must first access a boto client through your boto and sagemaker sessions: e.g. `sagemaker_session.boto_session.client()`.\n",
    "\n",
    "Below we list API calls used in this notebook that exist within the Python SDK and ones that exist in `boto3` for your reference. \n",
    "\n",
    "#### Python SDK API Calls\n",
    "* `describe()`\n",
    "* `ingest()`\n",
    "* `delete()`\n",
    "* `create()`\n",
    "* `load_feature_definitions()`\n",
    "* `update()`\n",
    "* `update_feature_metadata()`\n",
    "* `describe_feature_metadata()`\n",
    "\n",
    "#### Boto3 API Calls\n",
    "* `list_feature_groups()`\n",
    "* `get_record()`\n",
    "* `batch_get_record()`\n",
    "* `search()`\n"
   ]
  },
  {
   "attachments": {},
   "cell_type": "markdown",
   "metadata": {},
   "source": [
    "## Notebook CI Test Results\n",
    "\n",
    "This notebook was tested in multiple regions. The test results are as follows, except for us-west-2 which is shown at the top of the notebook.\n",
    "\n",
    "![This us-east-1 badge failed to load. Check your device's internet connectivity, otherwise the service is currently unavailable](https://prod.us-west-2.tcx-beacon.docs.aws.dev/sagemaker-nb/us-east-1/sagemaker-featurestore|feature_store_introduction.ipynb)\n",
    "\n",
    "![This us-east-2 badge failed to load. Check your device's internet connectivity, otherwise the service is currently unavailable](https://prod.us-west-2.tcx-beacon.docs.aws.dev/sagemaker-nb/us-east-2/sagemaker-featurestore|feature_store_introduction.ipynb)\n",
    "\n",
    "![This us-west-1 badge failed to load. Check your device's internet connectivity, otherwise the service is currently unavailable](https://prod.us-west-2.tcx-beacon.docs.aws.dev/sagemaker-nb/us-west-1/sagemaker-featurestore|feature_store_introduction.ipynb)\n",
    "\n",
    "![This ca-central-1 badge failed to load. Check your device's internet connectivity, otherwise the service is currently unavailable](https://prod.us-west-2.tcx-beacon.docs.aws.dev/sagemaker-nb/ca-central-1/sagemaker-featurestore|feature_store_introduction.ipynb)\n",
    "\n",
    "![This sa-east-1 badge failed to load. Check your device's internet connectivity, otherwise the service is currently unavailable](https://prod.us-west-2.tcx-beacon.docs.aws.dev/sagemaker-nb/sa-east-1/sagemaker-featurestore|feature_store_introduction.ipynb)\n",
    "\n",
    "![This eu-west-1 badge failed to load. Check your device's internet connectivity, otherwise the service is currently unavailable](https://prod.us-west-2.tcx-beacon.docs.aws.dev/sagemaker-nb/eu-west-1/sagemaker-featurestore|feature_store_introduction.ipynb)\n",
    "\n",
    "![This eu-west-2 badge failed to load. Check your device's internet connectivity, otherwise the service is currently unavailable](https://prod.us-west-2.tcx-beacon.docs.aws.dev/sagemaker-nb/eu-west-2/sagemaker-featurestore|feature_store_introduction.ipynb)\n",
    "\n",
    "![This eu-west-3 badge failed to load. Check your device's internet connectivity, otherwise the service is currently unavailable](https://prod.us-west-2.tcx-beacon.docs.aws.dev/sagemaker-nb/eu-west-3/sagemaker-featurestore|feature_store_introduction.ipynb)\n",
    "\n",
    "![This eu-central-1 badge failed to load. Check your device's internet connectivity, otherwise the service is currently unavailable](https://prod.us-west-2.tcx-beacon.docs.aws.dev/sagemaker-nb/eu-central-1/sagemaker-featurestore|feature_store_introduction.ipynb)\n",
    "\n",
    "![This eu-north-1 badge failed to load. Check your device's internet connectivity, otherwise the service is currently unavailable](https://prod.us-west-2.tcx-beacon.docs.aws.dev/sagemaker-nb/eu-north-1/sagemaker-featurestore|feature_store_introduction.ipynb)\n",
    "\n",
    "![This ap-southeast-1 badge failed to load. Check your device's internet connectivity, otherwise the service is currently unavailable](https://prod.us-west-2.tcx-beacon.docs.aws.dev/sagemaker-nb/ap-southeast-1/sagemaker-featurestore|feature_store_introduction.ipynb)\n",
    "\n",
    "![This ap-southeast-2 badge failed to load. Check your device's internet connectivity, otherwise the service is currently unavailable](https://prod.us-west-2.tcx-beacon.docs.aws.dev/sagemaker-nb/ap-southeast-2/sagemaker-featurestore|feature_store_introduction.ipynb)\n",
    "\n",
    "![This ap-northeast-1 badge failed to load. Check your device's internet connectivity, otherwise the service is currently unavailable](https://prod.us-west-2.tcx-beacon.docs.aws.dev/sagemaker-nb/ap-northeast-1/sagemaker-featurestore|feature_store_introduction.ipynb)\n",
    "\n",
    "![This ap-northeast-2 badge failed to load. Check your device's internet connectivity, otherwise the service is currently unavailable](https://prod.us-west-2.tcx-beacon.docs.aws.dev/sagemaker-nb/ap-northeast-2/sagemaker-featurestore|feature_store_introduction.ipynb)\n",
    "\n",
    "![This ap-south-1 badge failed to load. Check your device's internet connectivity, otherwise the service is currently unavailable](https://prod.us-west-2.tcx-beacon.docs.aws.dev/sagemaker-nb/ap-south-1/sagemaker-featurestore|feature_store_introduction.ipynb)\n"
   ]
  }
 ],
 "metadata": {
  "instance_type": "ml.t3.medium",
  "kernelspec": {
   "display_name": "base",
   "language": "python",
   "name": "python3"
  },
  "language_info": {
   "codemirror_mode": {
    "name": "ipython",
    "version": 3
   },
   "file_extension": ".py",
   "mimetype": "text/x-python",
   "name": "python",
   "nbconvert_exporter": "python",
   "pygments_lexer": "ipython3",
   "version": "3.10.13"
  }
 },
 "nbformat": 4,
 "nbformat_minor": 4
}
