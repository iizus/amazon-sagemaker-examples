{
 "cells": [
  {
   "cell_type": "markdown",
   "metadata": {},
   "source": [
    "# Amazon Bedrock Batch Inference"
   ]
  },
  {
   "cell_type": "markdown",
   "metadata": {},
   "source": [
    "## 情報\n",
    "### 公開情報\n",
    "- 開発者ドキュメント: https://docs.aws.amazon.com/bedrock/latest/userguide/batch-inference.html\n",
    "- Quota: https://docs.aws.amazon.com/bedrock/latest/userguide/quotas.html#quotas-batch\n",
    "- コードサンプル: https://docs.aws.amazon.com/bedrock/latest/userguide/batch-inference-example.html\n",
    "\n",
    "### 2024.1.25\n",
    "- Public Preview\n",
    "- 利用方法\n",
    "    - REST API: あると思うが面倒\n",
    "    - CLI: 無さそう\n",
    "    - SDK: プレビューのがある\n",
    "        - PythonとJavaのみ\n",
    "        - https://d2eo22ngex1n9g.cloudfront.net/Documentation/SDK/bedrock-python-sdk-reinvent.zip\n",
    "    - コンソール: 無さそう"
   ]
  },
  {
   "cell_type": "markdown",
   "metadata": {},
   "source": [
    "## 検証内容\n",
    "- Bedrockのbatch推論のquotaがon demandと関係ない（だからquotaに引っ掛からなくてうれしい）と言う説\n",
    "- text to image (SDXL or Titan or Both)で500枚くらいバッチ推論ジョブを発行してどんな風に実行が完了するか（もしくは完了しないか）を見てみる\n",
    "- On demandのquotaより明らかに早かったら嬉しい"
   ]
  },
  {
   "cell_type": "markdown",
   "metadata": {},
   "source": [
    "## 検証"
   ]
  },
  {
   "cell_type": "markdown",
   "metadata": {},
   "source": [
    "### データ準備\n",
    "参考: https://docs.aws.amazon.com/bedrock/latest/userguide/batch-inference-data.html"
   ]
  },
  {
   "cell_type": "markdown",
   "metadata": {},
   "source": [
    "### 環境準備"
   ]
  },
  {
   "cell_type": "code",
   "execution_count": 1,
   "metadata": {
    "vscode": {
     "languageId": "shellscript"
    }
   },
   "outputs": [
    {
     "name": "stdout",
     "output_type": "stream",
     "text": [
      "--2024-01-25 00:47:13--  https://d2eo22ngex1n9g.cloudfront.net/Documentation/SDK/bedrock-python-sdk-reinvent.zip\n",
      "Resolving d2eo22ngex1n9g.cloudfront.net (d2eo22ngex1n9g.cloudfront.net)... 99.84.216.107, 99.84.216.166, 99.84.216.85, ...\n",
      "Connecting to d2eo22ngex1n9g.cloudfront.net (d2eo22ngex1n9g.cloudfront.net)|99.84.216.107|:443... connected.\n",
      "HTTP request sent, awaiting response... 200 OK\n",
      "Length: 314169135 (300M) [application/zip]\n",
      "Saving to: ‘bedrock-python-sdk-reinvent.zip’\n",
      "\n",
      "bedrock-python-sdk- 100%[===================>] 299.61M  35.6MB/s    in 7.3s    \n",
      "\n",
      "2024-01-25 00:47:21 (40.8 MB/s) - ‘bedrock-python-sdk-reinvent.zip’ saved [314169135/314169135]\n",
      "\n"
     ]
    }
   ],
   "source": [
    "! wget https://d2eo22ngex1n9g.cloudfront.net/Documentation/SDK/bedrock-python-sdk-reinvent.zip"
   ]
  },
  {
   "cell_type": "code",
   "execution_count": 18,
   "metadata": {
    "vscode": {
     "languageId": "shellscript"
    }
   },
   "outputs": [
    {
     "name": "stdout",
     "output_type": "stream",
     "text": [
      "env: SDK=sdk\n",
      "Archive:  bedrock-python-sdk-reinvent.zip\n"
     ]
    }
   ],
   "source": [
    "%env SDK = sdk\n",
    "! unzip -f -d $SDK bedrock-python-sdk-reinvent.zip"
   ]
  },
  {
   "cell_type": "markdown",
   "metadata": {},
   "source": [
    "下記より、以下を参照: https://docs.aws.amazon.com/bedrock/latest/userguide/batch-inference-example.html"
   ]
  },
  {
   "cell_type": "code",
   "execution_count": 20,
   "metadata": {
    "vscode": {
     "languageId": "shellscript"
    }
   },
   "outputs": [
    {
     "name": "stdout",
     "output_type": "stream",
     "text": [
      "Processing ./sdk/botocore-1.32.4-py3-none-any.whl\n",
      "Requirement already satisfied: jmespath<2.0.0,>=0.7.1 in /opt/conda/lib/python3.10/site-packages (from botocore==1.32.4) (1.0.1)\n",
      "Requirement already satisfied: python-dateutil<3.0.0,>=2.1 in /opt/conda/lib/python3.10/site-packages (from botocore==1.32.4) (2.8.2)\n",
      "Requirement already satisfied: urllib3<2.1,>=1.25.4 in /opt/conda/lib/python3.10/site-packages (from botocore==1.32.4) (1.26.18)\n",
      "Requirement already satisfied: six>=1.5 in /opt/conda/lib/python3.10/site-packages (from python-dateutil<3.0.0,>=2.1->botocore==1.32.4) (1.16.0)\n",
      "Installing collected packages: botocore\n",
      "  Attempting uninstall: botocore\n",
      "    Found existing installation: botocore 1.31.64\n",
      "    Uninstalling botocore-1.31.64:\n",
      "      Successfully uninstalled botocore-1.31.64\n",
      "\u001b[31mERROR: pip's dependency resolver does not currently take into account all the packages that are installed. This behaviour is the source of the following dependency conflicts.\n",
      "aiobotocore 2.7.0 requires botocore<1.31.65,>=1.31.16, but you have botocore 1.32.4 which is incompatible.\n",
      "boto3 1.28.64 requires botocore<1.32.0,>=1.31.64, but you have botocore 1.32.4 which is incompatible.\u001b[0m\u001b[31m\n",
      "\u001b[0mSuccessfully installed botocore-1.32.4\n",
      "Processing ./sdk/boto3-1.29.4-py3-none-any.whl\n",
      "Requirement already satisfied: botocore<1.33.0,>=1.32.4 in /opt/conda/lib/python3.10/site-packages (from boto3==1.29.4) (1.32.4)\n",
      "Requirement already satisfied: jmespath<2.0.0,>=0.7.1 in /opt/conda/lib/python3.10/site-packages (from boto3==1.29.4) (1.0.1)\n",
      "Requirement already satisfied: s3transfer<0.8.0,>=0.7.0 in /opt/conda/lib/python3.10/site-packages (from boto3==1.29.4) (0.7.0)\n",
      "Requirement already satisfied: python-dateutil<3.0.0,>=2.1 in /opt/conda/lib/python3.10/site-packages (from botocore<1.33.0,>=1.32.4->boto3==1.29.4) (2.8.2)\n",
      "Requirement already satisfied: urllib3<2.1,>=1.25.4 in /opt/conda/lib/python3.10/site-packages (from botocore<1.33.0,>=1.32.4->boto3==1.29.4) (1.26.18)\n",
      "Requirement already satisfied: six>=1.5 in /opt/conda/lib/python3.10/site-packages (from python-dateutil<3.0.0,>=2.1->botocore<1.33.0,>=1.32.4->boto3==1.29.4) (1.16.0)\n",
      "Installing collected packages: boto3\n",
      "  Attempting uninstall: boto3\n",
      "    Found existing installation: boto3 1.28.64\n",
      "    Uninstalling boto3-1.28.64:\n",
      "      Successfully uninstalled boto3-1.28.64\n",
      "Successfully installed boto3-1.29.4\n"
     ]
    }
   ],
   "source": [
    "! pip install $SDK/botocore-1.32.4-py3-none-any.whl\n",
    "! pip install $SDK/boto3-1.29.4-py3-none-any.whl"
   ]
  },
  {
   "cell_type": "code",
   "execution_count": 21,
   "metadata": {},
   "outputs": [],
   "source": [
    "import boto3\n",
    "bedrock = boto3.client(service_name=\"bedrock\")"
   ]
  },
  {
   "cell_type": "code",
   "execution_count": 22,
   "metadata": {},
   "outputs": [
    {
     "ename": "AccessDeniedException",
     "evalue": "An error occurred (AccessDeniedException) when calling the CreateModelInvocationJob operation: Cross-account pass role is not allowed.",
     "output_type": "error",
     "traceback": [
      "\u001b[0;31m---------------------------------------------------------------------------\u001b[0m",
      "\u001b[0;31mAccessDeniedException\u001b[0m                     Traceback (most recent call last)",
      "Cell \u001b[0;32mIn[22], line 13\u001b[0m\n\u001b[1;32m      1\u001b[0m inputDataConfig \u001b[39m=\u001b[39m ({\n\u001b[1;32m      2\u001b[0m     \u001b[39m\"\u001b[39m\u001b[39ms3InputDataConfig\u001b[39m\u001b[39m\"\u001b[39m: {\n\u001b[1;32m      3\u001b[0m         \u001b[39m\"\u001b[39m\u001b[39ms3Uri\u001b[39m\u001b[39m\"\u001b[39m: \u001b[39m\"\u001b[39m\u001b[39ms3://input-bucket/input/abc.jsonl\u001b[39m\u001b[39m\"\u001b[39m\n\u001b[1;32m      4\u001b[0m     }\n\u001b[1;32m      5\u001b[0m })\n\u001b[1;32m      7\u001b[0m outputDataConfig\u001b[39m=\u001b[39m({\n\u001b[1;32m      8\u001b[0m     \u001b[39m\"\u001b[39m\u001b[39ms3OutputDataConfig\u001b[39m\u001b[39m\"\u001b[39m: {\n\u001b[1;32m      9\u001b[0m         \u001b[39m\"\u001b[39m\u001b[39ms3Uri\u001b[39m\u001b[39m\"\u001b[39m: \u001b[39m\"\u001b[39m\u001b[39ms3://output-bucket/output/\u001b[39m\u001b[39m\"\u001b[39m\n\u001b[1;32m     10\u001b[0m     }\n\u001b[1;32m     11\u001b[0m })\n\u001b[0;32m---> 13\u001b[0m response \u001b[39m=\u001b[39m bedrock\u001b[39m.\u001b[39;49mcreate_model_invocation_job(\n\u001b[1;32m     14\u001b[0m     roleArn \u001b[39m=\u001b[39;49m \u001b[39m\"\u001b[39;49m\u001b[39marn:aws:iam::123456789012:role/MyBatchInferenceRole\u001b[39;49m\u001b[39m\"\u001b[39;49m,\n\u001b[1;32m     15\u001b[0m     modelId \u001b[39m=\u001b[39;49m \u001b[39m\"\u001b[39;49m\u001b[39mamazon.titan-text-express-v1\u001b[39;49m\u001b[39m\"\u001b[39;49m,\n\u001b[1;32m     16\u001b[0m     jobName \u001b[39m=\u001b[39;49m \u001b[39m\"\u001b[39;49m\u001b[39mmy-batch-job\u001b[39;49m\u001b[39m\"\u001b[39;49m,\n\u001b[1;32m     17\u001b[0m     inputDataConfig \u001b[39m=\u001b[39;49m inputDataConfig,\n\u001b[1;32m     18\u001b[0m     outputDataConfig \u001b[39m=\u001b[39;49m outputDataConfig\n\u001b[1;32m     19\u001b[0m )\n\u001b[1;32m     21\u001b[0m jobArn \u001b[39m=\u001b[39m response\u001b[39m.\u001b[39mget(\u001b[39m'\u001b[39m\u001b[39mjobArn\u001b[39m\u001b[39m'\u001b[39m)\n\u001b[1;32m     22\u001b[0m jobArn\n",
      "File \u001b[0;32m/opt/conda/lib/python3.10/site-packages/botocore/client.py:535\u001b[0m, in \u001b[0;36mClientCreator._create_api_method.<locals>._api_call\u001b[0;34m(self, *args, **kwargs)\u001b[0m\n\u001b[1;32m    531\u001b[0m     \u001b[39mraise\u001b[39;00m \u001b[39mTypeError\u001b[39;00m(\n\u001b[1;32m    532\u001b[0m         \u001b[39mf\u001b[39m\u001b[39m\"\u001b[39m\u001b[39m{\u001b[39;00mpy_operation_name\u001b[39m}\u001b[39;00m\u001b[39m() only accepts keyword arguments.\u001b[39m\u001b[39m\"\u001b[39m\n\u001b[1;32m    533\u001b[0m     )\n\u001b[1;32m    534\u001b[0m \u001b[39m# The \"self\" in this scope is referring to the BaseClient.\u001b[39;00m\n\u001b[0;32m--> 535\u001b[0m \u001b[39mreturn\u001b[39;00m \u001b[39mself\u001b[39;49m\u001b[39m.\u001b[39;49m_make_api_call(operation_name, kwargs)\n",
      "File \u001b[0;32m/opt/conda/lib/python3.10/site-packages/botocore/client.py:983\u001b[0m, in \u001b[0;36mBaseClient._make_api_call\u001b[0;34m(self, operation_name, api_params)\u001b[0m\n\u001b[1;32m    979\u001b[0m     error_code \u001b[39m=\u001b[39m error_info\u001b[39m.\u001b[39mget(\u001b[39m\"\u001b[39m\u001b[39mQueryErrorCode\u001b[39m\u001b[39m\"\u001b[39m) \u001b[39mor\u001b[39;00m error_info\u001b[39m.\u001b[39mget(\n\u001b[1;32m    980\u001b[0m         \u001b[39m\"\u001b[39m\u001b[39mCode\u001b[39m\u001b[39m\"\u001b[39m\n\u001b[1;32m    981\u001b[0m     )\n\u001b[1;32m    982\u001b[0m     error_class \u001b[39m=\u001b[39m \u001b[39mself\u001b[39m\u001b[39m.\u001b[39mexceptions\u001b[39m.\u001b[39mfrom_code(error_code)\n\u001b[0;32m--> 983\u001b[0m     \u001b[39mraise\u001b[39;00m error_class(parsed_response, operation_name)\n\u001b[1;32m    984\u001b[0m \u001b[39melse\u001b[39;00m:\n\u001b[1;32m    985\u001b[0m     \u001b[39mreturn\u001b[39;00m parsed_response\n",
      "\u001b[0;31mAccessDeniedException\u001b[0m: An error occurred (AccessDeniedException) when calling the CreateModelInvocationJob operation: Cross-account pass role is not allowed."
     ]
    }
   ],
   "source": [
    "inputDataConfig = ({\n",
    "    \"s3InputDataConfig\": {\n",
    "        \"s3Uri\": \"s3://input-bucket/input/abc.jsonl\"\n",
    "    }\n",
    "})\n",
    "\n",
    "outputDataConfig=({\n",
    "    \"s3OutputDataConfig\": {\n",
    "        \"s3Uri\": \"s3://output-bucket/output/\"\n",
    "    }\n",
    "})\n",
    "\n",
    "response = bedrock.create_model_invocation_job(\n",
    "    roleArn = \"arn:aws:iam::123456789012:role/MyBatchInferenceRole\",\n",
    "    modelId = \"amazon.titan-text-express-v1\",\n",
    "    jobName = \"my-batch-job\",\n",
    "    inputDataConfig = inputDataConfig,\n",
    "    outputDataConfig = outputDataConfig\n",
    ")\n",
    "\n",
    "jobArn = response.get('jobArn')\n",
    "jobArn"
   ]
  },
  {
   "cell_type": "code",
   "execution_count": null,
   "metadata": {},
   "outputs": [],
   "source": []
  }
 ],
 "metadata": {
  "kernelspec": {
   "display_name": "base",
   "language": "python",
   "name": "python3"
  },
  "language_info": {
   "codemirror_mode": {
    "name": "ipython",
    "version": 3
   },
   "file_extension": ".py",
   "mimetype": "text/x-python",
   "name": "python",
   "nbconvert_exporter": "python",
   "pygments_lexer": "ipython3",
   "version": "3.10.13"
  }
 },
 "nbformat": 4,
 "nbformat_minor": 2
}
