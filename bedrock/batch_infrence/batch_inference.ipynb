{
 "cells": [
  {
   "cell_type": "markdown",
   "metadata": {},
   "source": [
    "# Amazon Bedrock Batch Inference"
   ]
  },
  {
   "cell_type": "markdown",
   "metadata": {},
   "source": [
    "## 情報\n",
    "### 公開情報\n",
    "- 開発者ドキュメント: https://docs.aws.amazon.com/bedrock/latest/userguide/batch-inference.html\n",
    "- Quota: https://docs.aws.amazon.com/bedrock/latest/userguide/quotas.html#quotas-batch\n",
    "- コードサンプル: https://docs.aws.amazon.com/bedrock/latest/userguide/batch-inference-example.html\n",
    "\n",
    "### 2024.1.25\n",
    "- Public Preview\n",
    "- 利用方法\n",
    "    - REST API: あると思うが面倒\n",
    "    - CLI: 無さそう\n",
    "    - SDK: プレビューのがある\n",
    "        - PythonとJavaのみ\n",
    "        - https://d2eo22ngex1n9g.cloudfront.net/Documentation/SDK/bedrock-python-sdk-reinvent.zip\n",
    "    - コンソール: 無さそう"
   ]
  },
  {
   "cell_type": "markdown",
   "metadata": {},
   "source": [
    "## 背景\n",
    "- Bedrockのbatch推論のquotaがon demandと関係ない（だからquotaに引っ掛からなくてうれしい）と言う説\n",
    "- text to image (SDXL or Titan or Both)で500枚くらいバッチ推論ジョブを発行してどんな風に実行が完了するか（もしくは完了しないか）を見てみる\n",
    "- On demandのquotaより明らかに早かったら嬉しい\n",
    "\n",
    "\n",
    "## 検証条件\n",
    "- 推論方式：バッチ\n",
    "- 生成：テキストから画像\n",
    "- モデル：Amazon Titan"
   ]
  },
  {
   "cell_type": "markdown",
   "metadata": {},
   "source": [
    "## 検証"
   ]
  },
  {
   "cell_type": "markdown",
   "metadata": {},
   "source": [
    "### 環境準備"
   ]
  },
  {
   "cell_type": "code",
   "execution_count": 1,
   "metadata": {
    "vscode": {
     "languageId": "shellscript"
    }
   },
   "outputs": [
    {
     "name": "stdout",
     "output_type": "stream",
     "text": [
      "--2024-01-25 00:47:13--  https://d2eo22ngex1n9g.cloudfront.net/Documentation/SDK/bedrock-python-sdk-reinvent.zip\n",
      "Resolving d2eo22ngex1n9g.cloudfront.net (d2eo22ngex1n9g.cloudfront.net)... 99.84.216.107, 99.84.216.166, 99.84.216.85, ...\n",
      "Connecting to d2eo22ngex1n9g.cloudfront.net (d2eo22ngex1n9g.cloudfront.net)|99.84.216.107|:443... connected.\n",
      "HTTP request sent, awaiting response... 200 OK\n",
      "Length: 314169135 (300M) [application/zip]\n",
      "Saving to: ‘bedrock-python-sdk-reinvent.zip’\n",
      "\n",
      "bedrock-python-sdk- 100%[===================>] 299.61M  35.6MB/s    in 7.3s    \n",
      "\n",
      "2024-01-25 00:47:21 (40.8 MB/s) - ‘bedrock-python-sdk-reinvent.zip’ saved [314169135/314169135]\n",
      "\n"
     ]
    }
   ],
   "source": [
    "! wget https://d2eo22ngex1n9g.cloudfront.net/Documentation/SDK/bedrock-python-sdk-reinvent.zip"
   ]
  },
  {
   "cell_type": "code",
   "execution_count": 33,
   "metadata": {
    "vscode": {
     "languageId": "shellscript"
    }
   },
   "outputs": [
    {
     "name": "stdout",
     "output_type": "stream",
     "text": [
      "env: SDK=sdk\n",
      "Archive:  bedrock-python-sdk-reinvent.zip\n",
      "AWSCLI32.msi\t\t\tboto3-1.29.4-py3-none-any.whl\n",
      "AWSCLI32PY3.msi\t\t\tboto3-1.29.4.tar.gz\n",
      "AWSCLI64.msi\t\t\tbotocore-1.32.4-py3-none-any.whl\n",
      "AWSCLI64PY3.msi\t\t\tbotocore-1.32.4.tar.gz\n",
      "AWSCLISetup.exe\t\t\tmanifest.json\n",
      "awscli-1.30.4-py3-none-any.whl\tmodels-starfort-report.json\n",
      "awscli-1.30.4.tar.gz\t\treviews\n",
      "awscli-bundle.zip\n"
     ]
    }
   ],
   "source": [
    "SDK = \"sdk\"\n",
    "\n",
    "! unzip -f -d $SDK bedrock-python-sdk-reinvent.zip\n",
    "! ls $SDK"
   ]
  },
  {
   "cell_type": "markdown",
   "metadata": {},
   "source": [
    "下記より、以下を参照: https://docs.aws.amazon.com/bedrock/latest/userguide/batch-inference-example.html"
   ]
  },
  {
   "cell_type": "code",
   "execution_count": 39,
   "metadata": {
    "vscode": {
     "languageId": "shellscript"
    }
   },
   "outputs": [
    {
     "name": "stdout",
     "output_type": "stream",
     "text": [
      "sdk/botocore-1.32.4-py3-none-any.whl\n",
      "sdk/boto3-1.29.4-py3-none-any.whl\n"
     ]
    }
   ],
   "source": [
    "! find $SDK -type f -name boto*.whl"
   ]
  },
  {
   "cell_type": "code",
   "execution_count": 38,
   "metadata": {
    "vscode": {
     "languageId": "shellscript"
    }
   },
   "outputs": [
    {
     "name": "stdout",
     "output_type": "stream",
     "text": [
      "Processing ./sdk/botocore-1.32.4-py3-none-any.whl\n",
      "Requirement already satisfied: jmespath<2.0.0,>=0.7.1 in /opt/conda/lib/python3.10/site-packages (from botocore==1.32.4) (1.0.1)\n",
      "Requirement already satisfied: python-dateutil<3.0.0,>=2.1 in /opt/conda/lib/python3.10/site-packages (from botocore==1.32.4) (2.8.2)\n",
      "Requirement already satisfied: urllib3<2.1,>=1.25.4 in /opt/conda/lib/python3.10/site-packages (from botocore==1.32.4) (1.26.18)\n",
      "Requirement already satisfied: six>=1.5 in /opt/conda/lib/python3.10/site-packages (from python-dateutil<3.0.0,>=2.1->botocore==1.32.4) (1.16.0)\n",
      "botocore is already installed with the same version as the provided wheel. Use --force-reinstall to force an installation of the wheel.\n",
      "Processing ./sdk/boto3-1.29.4-py3-none-any.whl\n",
      "Requirement already satisfied: botocore<1.33.0,>=1.32.4 in /opt/conda/lib/python3.10/site-packages (from boto3==1.29.4) (1.32.4)\n",
      "Requirement already satisfied: jmespath<2.0.0,>=0.7.1 in /opt/conda/lib/python3.10/site-packages (from boto3==1.29.4) (1.0.1)\n",
      "Requirement already satisfied: s3transfer<0.8.0,>=0.7.0 in /opt/conda/lib/python3.10/site-packages (from boto3==1.29.4) (0.7.0)\n",
      "Requirement already satisfied: python-dateutil<3.0.0,>=2.1 in /opt/conda/lib/python3.10/site-packages (from botocore<1.33.0,>=1.32.4->boto3==1.29.4) (2.8.2)\n",
      "Requirement already satisfied: urllib3<2.1,>=1.25.4 in /opt/conda/lib/python3.10/site-packages (from botocore<1.33.0,>=1.32.4->boto3==1.29.4) (1.26.18)\n",
      "Requirement already satisfied: six>=1.5 in /opt/conda/lib/python3.10/site-packages (from python-dateutil<3.0.0,>=2.1->botocore<1.33.0,>=1.32.4->boto3==1.29.4) (1.16.0)\n",
      "boto3 is already installed with the same version as the provided wheel. Use --force-reinstall to force an installation of the wheel.\n"
     ]
    }
   ],
   "source": [
    "! pip install $SDK/botocore-1.32.4-py3-none-any.whl\n",
    "! pip install $SDK/boto3-1.29.4-py3-none-any.whl"
   ]
  },
  {
   "cell_type": "code",
   "execution_count": 6,
   "metadata": {
    "vscode": {
     "languageId": "shellscript"
    }
   },
   "outputs": [
    {
     "name": "stdout",
     "output_type": "stream",
     "text": [
      "aws-cli/1.22.34 Python/3.10.12 Linux/4.14.330-250.540.amzn2.x86_64 botocore/1.23.34\n"
     ]
    }
   ],
   "source": [
    "! aws --version"
   ]
  },
  {
   "cell_type": "markdown",
   "metadata": {},
   "source": [
    "### 入力データフォーマット\n",
    "参考: https://docs.aws.amazon.com/bedrock/latest/userguide/batch-inference-data.html\n",
    "\n",
    "以下、サンプルの入力JSON\n",
    "\n",
    "入力JSON Linesフォーマット\n",
    "```JSON\n",
    "{\n",
    "    \"recordId\": \"12 character alphanumeric string\", # recordIdフィールドを外すと、Amazon Bedrockが出力に追加\n",
    "    \"modelInput\": {JSON body}\n",
    "}\n",
    "...\n",
    "{\n",
    "    \"recordId\": \"12 character alphanumeric string\", # recordIdフィールドを外すと、Amazon Bedrockが出力に追加\n",
    "    \"modelInput\": {JSON body}\n",
    "}\n",
    "```\n",
    "\n",
    "Titanの場合の推論入力JSON: https://docs.aws.amazon.com/bedrock/latest/userguide/model-parameters-titan-text.html#model-parameters-titan-request-body\n",
    "\n",
    "```JSON\n",
    "{\n",
    "    \"inputText\": string,\n",
    "    \"textGenerationConfig\": { // オプション\n",
    "        \"temperature\": float,  \n",
    "        \"topP\": float,\n",
    "        \"maxTokenCount\": int,\n",
    "        \"stopSequences\": [string]\n",
    "    }\n",
    "}\n",
    "```\n",
    "\n",
    "Tiatanの場合のバッチ推論入力JSON Lines\n",
    "```JSON\n",
    "{\n",
    "    \"modelInput\": {\"inputText\": string}\n",
    "}\n",
    "...\n",
    "{\n",
    "    \"modelInput\": {\"inputText\": string}\n",
    "}\n",
    "```"
   ]
  },
  {
   "cell_type": "markdown",
   "metadata": {},
   "source": [
    "### 条件設定"
   ]
  },
  {
   "cell_type": "code",
   "execution_count": 2,
   "metadata": {},
   "outputs": [],
   "source": [
    "# model_id = \"amazon.titan-image-generator-v1\"\n",
    "model_id = \"stability.stable-diffusion-xl-v1\"\n",
    "\n",
    "prompt = \"A dog running at a park\"\n",
    "number_of_images = 500\n",
    "jsonl_path = \"input/input.jsonl\""
   ]
  },
  {
   "cell_type": "markdown",
   "metadata": {},
   "source": [
    "### 環境設定"
   ]
  },
  {
   "cell_type": "code",
   "execution_count": 3,
   "metadata": {},
   "outputs": [],
   "source": [
    "from yaml import safe_load\n",
    "with open(\"config.yaml\", \"r\") as config_file:\n",
    "    config = safe_load(config_file)\n",
    "\n",
    "role = config.get(\"role\")\n",
    "s3_path = config.get(\"s3_path\")"
   ]
  },
  {
   "cell_type": "markdown",
   "metadata": {},
   "source": [
    "### バッチ用入力データ出力"
   ]
  },
  {
   "cell_type": "code",
   "execution_count": 4,
   "metadata": {},
   "outputs": [
    {
     "data": {
      "text/plain": [
       "'{\"modelInput\":{\"inputText\":\"A dog running at a park\"}}\\n{\"modelInput\":{\"inputText\":\"A dog running at a park\"}}\\n{\"modelInput\":{\"inputText\":\"A dog running at a park\"}}\\n{\"modelInput\":{\"inputText\":\"A dog running at a park\"}}\\n{\"modelInput\":{\"inputText\":\"A dog running at a park\"}}\\n{\"modelInput\":{\"inputText\":\"A dog running at a park\"}}\\n{\"modelInput\":{\"inputText\":\"A dog running at a park\"}}\\n{\"modelInput\":{\"inputText\":\"A dog running at a park\"}}\\n{\"modelInput\":{\"inputText\":\"A dog running at a park\"}}\\n{\"modelInput\":{\"inputText\":\"A dog running at a park\"}}\\n{\"modelInput\":{\"inputText\":\"A dog running at a park\"}}\\n{\"modelInput\":{\"inputText\":\"A dog running at a park\"}}\\n{\"modelInput\":{\"inputText\":\"A dog running at a park\"}}\\n{\"modelInput\":{\"inputText\":\"A dog running at a park\"}}\\n{\"modelInput\":{\"inputText\":\"A dog running at a park\"}}\\n{\"modelInput\":{\"inputText\":\"A dog running at a park\"}}\\n{\"modelInput\":{\"inputText\":\"A dog running at a park\"}}\\n{\"modelInput\":{\"inputText\":\"A dog running at a park\"}}\\n{\"modelInput\":{\"inputText\":\"A dog running at a park\"}}\\n{\"modelInput\":{\"inputText\":\"A dog running at a park\"}}\\n{\"modelInput\":{\"inputText\":\"A dog running at a park\"}}\\n{\"modelInput\":{\"inputText\":\"A dog running at a park\"}}\\n{\"modelInput\":{\"inputText\":\"A dog running at a park\"}}\\n{\"modelInput\":{\"inputText\":\"A dog running at a park\"}}\\n{\"modelInput\":{\"inputText\":\"A dog running at a park\"}}\\n{\"modelInput\":{\"inputText\":\"A dog running at a park\"}}\\n{\"modelInput\":{\"inputText\":\"A dog running at a park\"}}\\n{\"modelInput\":{\"inputText\":\"A dog running at a park\"}}\\n{\"modelInput\":{\"inputText\":\"A dog running at a park\"}}\\n{\"modelInput\":{\"inputText\":\"A dog running at a park\"}}\\n{\"modelInput\":{\"inputText\":\"A dog running at a park\"}}\\n{\"modelInput\":{\"inputText\":\"A dog running at a park\"}}\\n{\"modelInput\":{\"inputText\":\"A dog running at a park\"}}\\n{\"modelInput\":{\"inputText\":\"A dog running at a park\"}}\\n{\"modelInput\":{\"inputText\":\"A dog running at a park\"}}\\n{\"modelInput\":{\"inputText\":\"A dog running at a park\"}}\\n{\"modelInput\":{\"inputText\":\"A dog running at a park\"}}\\n{\"modelInput\":{\"inputText\":\"A dog running at a park\"}}\\n{\"modelInput\":{\"inputText\":\"A dog running at a park\"}}\\n{\"modelInput\":{\"inputText\":\"A dog running at a park\"}}\\n{\"modelInput\":{\"inputText\":\"A dog running at a park\"}}\\n{\"modelInput\":{\"inputText\":\"A dog running at a park\"}}\\n{\"modelInput\":{\"inputText\":\"A dog running at a park\"}}\\n{\"modelInput\":{\"inputText\":\"A dog running at a park\"}}\\n{\"modelInput\":{\"inputText\":\"A dog running at a park\"}}\\n{\"modelInput\":{\"inputText\":\"A dog running at a park\"}}\\n{\"modelInput\":{\"inputText\":\"A dog running at a park\"}}\\n{\"modelInput\":{\"inputText\":\"A dog running at a park\"}}\\n{\"modelInput\":{\"inputText\":\"A dog running at a park\"}}\\n{\"modelInput\":{\"inputText\":\"A dog running at a park\"}}\\n{\"modelInput\":{\"inputText\":\"A dog running at a park\"}}\\n{\"modelInput\":{\"inputText\":\"A dog running at a park\"}}\\n{\"modelInput\":{\"inputText\":\"A dog running at a park\"}}\\n{\"modelInput\":{\"inputText\":\"A dog running at a park\"}}\\n{\"modelInput\":{\"inputText\":\"A dog running at a park\"}}\\n{\"modelInput\":{\"inputText\":\"A dog running at a park\"}}\\n{\"modelInput\":{\"inputText\":\"A dog running at a park\"}}\\n{\"modelInput\":{\"inputText\":\"A dog running at a park\"}}\\n{\"modelInput\":{\"inputText\":\"A dog running at a park\"}}\\n{\"modelInput\":{\"inputText\":\"A dog running at a park\"}}\\n{\"modelInput\":{\"inputText\":\"A dog running at a park\"}}\\n{\"modelInput\":{\"inputText\":\"A dog running at a park\"}}\\n{\"modelInput\":{\"inputText\":\"A dog running at a park\"}}\\n{\"modelInput\":{\"inputText\":\"A dog running at a park\"}}\\n{\"modelInput\":{\"inputText\":\"A dog running at a park\"}}\\n{\"modelInput\":{\"inputText\":\"A dog running at a park\"}}\\n{\"modelInput\":{\"inputText\":\"A dog running at a park\"}}\\n{\"modelInput\":{\"inputText\":\"A dog running at a park\"}}\\n{\"modelInput\":{\"inputText\":\"A dog running at a park\"}}\\n{\"modelInput\":{\"inputText\":\"A dog running at a park\"}}\\n{\"modelInput\":{\"inputText\":\"A dog running at a park\"}}\\n{\"modelInput\":{\"inputText\":\"A dog running at a park\"}}\\n{\"modelInput\":{\"inputText\":\"A dog running at a park\"}}\\n{\"modelInput\":{\"inputText\":\"A dog running at a park\"}}\\n{\"modelInput\":{\"inputText\":\"A dog running at a park\"}}\\n{\"modelInput\":{\"inputText\":\"A dog running at a park\"}}\\n{\"modelInput\":{\"inputText\":\"A dog running at a park\"}}\\n{\"modelInput\":{\"inputText\":\"A dog running at a park\"}}\\n{\"modelInput\":{\"inputText\":\"A dog running at a park\"}}\\n{\"modelInput\":{\"inputText\":\"A dog running at a park\"}}\\n{\"modelInput\":{\"inputText\":\"A dog running at a park\"}}\\n{\"modelInput\":{\"inputText\":\"A dog running at a park\"}}\\n{\"modelInput\":{\"inputText\":\"A dog running at a park\"}}\\n{\"modelInput\":{\"inputText\":\"A dog running at a park\"}}\\n{\"modelInput\":{\"inputText\":\"A dog running at a park\"}}\\n{\"modelInput\":{\"inputText\":\"A dog running at a park\"}}\\n{\"modelInput\":{\"inputText\":\"A dog running at a park\"}}\\n{\"modelInput\":{\"inputText\":\"A dog running at a park\"}}\\n{\"modelInput\":{\"inputText\":\"A dog running at a park\"}}\\n{\"modelInput\":{\"inputText\":\"A dog running at a park\"}}\\n{\"modelInput\":{\"inputText\":\"A dog running at a park\"}}\\n{\"modelInput\":{\"inputText\":\"A dog running at a park\"}}\\n{\"modelInput\":{\"inputText\":\"A dog running at a park\"}}\\n{\"modelInput\":{\"inputText\":\"A dog running at a park\"}}\\n{\"modelInput\":{\"inputText\":\"A dog running at a park\"}}\\n{\"modelInput\":{\"inputText\":\"A dog running at a park\"}}\\n{\"modelInput\":{\"inputText\":\"A dog running at a park\"}}\\n{\"modelInput\":{\"inputText\":\"A dog running at a park\"}}\\n{\"modelInput\":{\"inputText\":\"A dog running at a park\"}}\\n{\"modelInput\":{\"inputText\":\"A dog running at a park\"}}\\n{\"modelInput\":{\"inputText\":\"A dog running at a park\"}}\\n{\"modelInput\":{\"inputText\":\"A dog running at a park\"}}\\n{\"modelInput\":{\"inputText\":\"A dog running at a park\"}}\\n{\"modelInput\":{\"inputText\":\"A dog running at a park\"}}\\n{\"modelInput\":{\"inputText\":\"A dog running at a park\"}}\\n{\"modelInput\":{\"inputText\":\"A dog running at a park\"}}\\n{\"modelInput\":{\"inputText\":\"A dog running at a park\"}}\\n{\"modelInput\":{\"inputText\":\"A dog running at a park\"}}\\n{\"modelInput\":{\"inputText\":\"A dog running at a park\"}}\\n{\"modelInput\":{\"inputText\":\"A dog running at a park\"}}\\n{\"modelInput\":{\"inputText\":\"A dog running at a park\"}}\\n{\"modelInput\":{\"inputText\":\"A dog running at a park\"}}\\n{\"modelInput\":{\"inputText\":\"A dog running at a park\"}}\\n{\"modelInput\":{\"inputText\":\"A dog running at a park\"}}\\n{\"modelInput\":{\"inputText\":\"A dog running at a park\"}}\\n{\"modelInput\":{\"inputText\":\"A dog running at a park\"}}\\n{\"modelInput\":{\"inputText\":\"A dog running at a park\"}}\\n{\"modelInput\":{\"inputText\":\"A dog running at a park\"}}\\n{\"modelInput\":{\"inputText\":\"A dog running at a park\"}}\\n{\"modelInput\":{\"inputText\":\"A dog running at a park\"}}\\n{\"modelInput\":{\"inputText\":\"A dog running at a park\"}}\\n{\"modelInput\":{\"inputText\":\"A dog running at a park\"}}\\n{\"modelInput\":{\"inputText\":\"A dog running at a park\"}}\\n{\"modelInput\":{\"inputText\":\"A dog running at a park\"}}\\n{\"modelInput\":{\"inputText\":\"A dog running at a park\"}}\\n{\"modelInput\":{\"inputText\":\"A dog running at a park\"}}\\n{\"modelInput\":{\"inputText\":\"A dog running at a park\"}}\\n{\"modelInput\":{\"inputText\":\"A dog running at a park\"}}\\n{\"modelInput\":{\"inputText\":\"A dog running at a park\"}}\\n{\"modelInput\":{\"inputText\":\"A dog running at a park\"}}\\n{\"modelInput\":{\"inputText\":\"A dog running at a park\"}}\\n{\"modelInput\":{\"inputText\":\"A dog running at a park\"}}\\n{\"modelInput\":{\"inputText\":\"A dog running at a park\"}}\\n{\"modelInput\":{\"inputText\":\"A dog running at a park\"}}\\n{\"modelInput\":{\"inputText\":\"A dog running at a park\"}}\\n{\"modelInput\":{\"inputText\":\"A dog running at a park\"}}\\n{\"modelInput\":{\"inputText\":\"A dog running at a park\"}}\\n{\"modelInput\":{\"inputText\":\"A dog running at a park\"}}\\n{\"modelInput\":{\"inputText\":\"A dog running at a park\"}}\\n{\"modelInput\":{\"inputText\":\"A dog running at a park\"}}\\n{\"modelInput\":{\"inputText\":\"A dog running at a park\"}}\\n{\"modelInput\":{\"inputText\":\"A dog running at a park\"}}\\n{\"modelInput\":{\"inputText\":\"A dog running at a park\"}}\\n{\"modelInput\":{\"inputText\":\"A dog running at a park\"}}\\n{\"modelInput\":{\"inputText\":\"A dog running at a park\"}}\\n{\"modelInput\":{\"inputText\":\"A dog running at a park\"}}\\n{\"modelInput\":{\"inputText\":\"A dog running at a park\"}}\\n{\"modelInput\":{\"inputText\":\"A dog running at a park\"}}\\n{\"modelInput\":{\"inputText\":\"A dog running at a park\"}}\\n{\"modelInput\":{\"inputText\":\"A dog running at a park\"}}\\n{\"modelInput\":{\"inputText\":\"A dog running at a park\"}}\\n{\"modelInput\":{\"inputText\":\"A dog running at a park\"}}\\n{\"modelInput\":{\"inputText\":\"A dog running at a park\"}}\\n{\"modelInput\":{\"inputText\":\"A dog running at a park\"}}\\n{\"modelInput\":{\"inputText\":\"A dog running at a park\"}}\\n{\"modelInput\":{\"inputText\":\"A dog running at a park\"}}\\n{\"modelInput\":{\"inputText\":\"A dog running at a park\"}}\\n{\"modelInput\":{\"inputText\":\"A dog running at a park\"}}\\n{\"modelInput\":{\"inputText\":\"A dog running at a park\"}}\\n{\"modelInput\":{\"inputText\":\"A dog running at a park\"}}\\n{\"modelInput\":{\"inputText\":\"A dog running at a park\"}}\\n{\"modelInput\":{\"inputText\":\"A dog running at a park\"}}\\n{\"modelInput\":{\"inputText\":\"A dog running at a park\"}}\\n{\"modelInput\":{\"inputText\":\"A dog running at a park\"}}\\n{\"modelInput\":{\"inputText\":\"A dog running at a park\"}}\\n{\"modelInput\":{\"inputText\":\"A dog running at a park\"}}\\n{\"modelInput\":{\"inputText\":\"A dog running at a park\"}}\\n{\"modelInput\":{\"inputText\":\"A dog running at a park\"}}\\n{\"modelInput\":{\"inputText\":\"A dog running at a park\"}}\\n{\"modelInput\":{\"inputText\":\"A dog running at a park\"}}\\n{\"modelInput\":{\"inputText\":\"A dog running at a park\"}}\\n{\"modelInput\":{\"inputText\":\"A dog running at a park\"}}\\n{\"modelInput\":{\"inputText\":\"A dog running at a park\"}}\\n{\"modelInput\":{\"inputText\":\"A dog running at a park\"}}\\n{\"modelInput\":{\"inputText\":\"A dog running at a park\"}}\\n{\"modelInput\":{\"inputText\":\"A dog running at a park\"}}\\n{\"modelInput\":{\"inputText\":\"A dog running at a park\"}}\\n{\"modelInput\":{\"inputText\":\"A dog running at a park\"}}\\n{\"modelInput\":{\"inputText\":\"A dog running at a park\"}}\\n{\"modelInput\":{\"inputText\":\"A dog running at a park\"}}\\n{\"modelInput\":{\"inputText\":\"A dog running at a park\"}}\\n{\"modelInput\":{\"inputText\":\"A dog running at a park\"}}\\n{\"modelInput\":{\"inputText\":\"A dog running at a park\"}}\\n{\"modelInput\":{\"inputText\":\"A dog running at a park\"}}\\n{\"modelInput\":{\"inputText\":\"A dog running at a park\"}}\\n{\"modelInput\":{\"inputText\":\"A dog running at a park\"}}\\n{\"modelInput\":{\"inputText\":\"A dog running at a park\"}}\\n{\"modelInput\":{\"inputText\":\"A dog running at a park\"}}\\n{\"modelInput\":{\"inputText\":\"A dog running at a park\"}}\\n{\"modelInput\":{\"inputText\":\"A dog running at a park\"}}\\n{\"modelInput\":{\"inputText\":\"A dog running at a park\"}}\\n{\"modelInput\":{\"inputText\":\"A dog running at a park\"}}\\n{\"modelInput\":{\"inputText\":\"A dog running at a park\"}}\\n{\"modelInput\":{\"inputText\":\"A dog running at a park\"}}\\n{\"modelInput\":{\"inputText\":\"A dog running at a park\"}}\\n{\"modelInput\":{\"inputText\":\"A dog running at a park\"}}\\n{\"modelInput\":{\"inputText\":\"A dog running at a park\"}}\\n{\"modelInput\":{\"inputText\":\"A dog running at a park\"}}\\n{\"modelInput\":{\"inputText\":\"A dog running at a park\"}}\\n{\"modelInput\":{\"inputText\":\"A dog running at a park\"}}\\n{\"modelInput\":{\"inputText\":\"A dog running at a park\"}}\\n{\"modelInput\":{\"inputText\":\"A dog running at a park\"}}\\n{\"modelInput\":{\"inputText\":\"A dog running at a park\"}}\\n{\"modelInput\":{\"inputText\":\"A dog running at a park\"}}\\n{\"modelInput\":{\"inputText\":\"A dog running at a park\"}}\\n{\"modelInput\":{\"inputText\":\"A dog running at a park\"}}\\n{\"modelInput\":{\"inputText\":\"A dog running at a park\"}}\\n{\"modelInput\":{\"inputText\":\"A dog running at a park\"}}\\n{\"modelInput\":{\"inputText\":\"A dog running at a park\"}}\\n{\"modelInput\":{\"inputText\":\"A dog running at a park\"}}\\n{\"modelInput\":{\"inputText\":\"A dog running at a park\"}}\\n{\"modelInput\":{\"inputText\":\"A dog running at a park\"}}\\n{\"modelInput\":{\"inputText\":\"A dog running at a park\"}}\\n{\"modelInput\":{\"inputText\":\"A dog running at a park\"}}\\n{\"modelInput\":{\"inputText\":\"A dog running at a park\"}}\\n{\"modelInput\":{\"inputText\":\"A dog running at a park\"}}\\n{\"modelInput\":{\"inputText\":\"A dog running at a park\"}}\\n{\"modelInput\":{\"inputText\":\"A dog running at a park\"}}\\n{\"modelInput\":{\"inputText\":\"A dog running at a park\"}}\\n{\"modelInput\":{\"inputText\":\"A dog running at a park\"}}\\n{\"modelInput\":{\"inputText\":\"A dog running at a park\"}}\\n{\"modelInput\":{\"inputText\":\"A dog running at a park\"}}\\n{\"modelInput\":{\"inputText\":\"A dog running at a park\"}}\\n{\"modelInput\":{\"inputText\":\"A dog running at a park\"}}\\n{\"modelInput\":{\"inputText\":\"A dog running at a park\"}}\\n{\"modelInput\":{\"inputText\":\"A dog running at a park\"}}\\n{\"modelInput\":{\"inputText\":\"A dog running at a park\"}}\\n{\"modelInput\":{\"inputText\":\"A dog running at a park\"}}\\n{\"modelInput\":{\"inputText\":\"A dog running at a park\"}}\\n{\"modelInput\":{\"inputText\":\"A dog running at a park\"}}\\n{\"modelInput\":{\"inputText\":\"A dog running at a park\"}}\\n{\"modelInput\":{\"inputText\":\"A dog running at a park\"}}\\n{\"modelInput\":{\"inputText\":\"A dog running at a park\"}}\\n{\"modelInput\":{\"inputText\":\"A dog running at a park\"}}\\n{\"modelInput\":{\"inputText\":\"A dog running at a park\"}}\\n{\"modelInput\":{\"inputText\":\"A dog running at a park\"}}\\n{\"modelInput\":{\"inputText\":\"A dog running at a park\"}}\\n{\"modelInput\":{\"inputText\":\"A dog running at a park\"}}\\n{\"modelInput\":{\"inputText\":\"A dog running at a park\"}}\\n{\"modelInput\":{\"inputText\":\"A dog running at a park\"}}\\n{\"modelInput\":{\"inputText\":\"A dog running at a park\"}}\\n{\"modelInput\":{\"inputText\":\"A dog running at a park\"}}\\n{\"modelInput\":{\"inputText\":\"A dog running at a park\"}}\\n{\"modelInput\":{\"inputText\":\"A dog running at a park\"}}\\n{\"modelInput\":{\"inputText\":\"A dog running at a park\"}}\\n{\"modelInput\":{\"inputText\":\"A dog running at a park\"}}\\n{\"modelInput\":{\"inputText\":\"A dog running at a park\"}}\\n{\"modelInput\":{\"inputText\":\"A dog running at a park\"}}\\n{\"modelInput\":{\"inputText\":\"A dog running at a park\"}}\\n{\"modelInput\":{\"inputText\":\"A dog running at a park\"}}\\n{\"modelInput\":{\"inputText\":\"A dog running at a park\"}}\\n{\"modelInput\":{\"inputText\":\"A dog running at a park\"}}\\n{\"modelInput\":{\"inputText\":\"A dog running at a park\"}}\\n{\"modelInput\":{\"inputText\":\"A dog running at a park\"}}\\n{\"modelInput\":{\"inputText\":\"A dog running at a park\"}}\\n{\"modelInput\":{\"inputText\":\"A dog running at a park\"}}\\n{\"modelInput\":{\"inputText\":\"A dog running at a park\"}}\\n{\"modelInput\":{\"inputText\":\"A dog running at a park\"}}\\n{\"modelInput\":{\"inputText\":\"A dog running at a park\"}}\\n{\"modelInput\":{\"inputText\":\"A dog running at a park\"}}\\n{\"modelInput\":{\"inputText\":\"A dog running at a park\"}}\\n{\"modelInput\":{\"inputText\":\"A dog running at a park\"}}\\n{\"modelInput\":{\"inputText\":\"A dog running at a park\"}}\\n{\"modelInput\":{\"inputText\":\"A dog running at a park\"}}\\n{\"modelInput\":{\"inputText\":\"A dog running at a park\"}}\\n{\"modelInput\":{\"inputText\":\"A dog running at a park\"}}\\n{\"modelInput\":{\"inputText\":\"A dog running at a park\"}}\\n{\"modelInput\":{\"inputText\":\"A dog running at a park\"}}\\n{\"modelInput\":{\"inputText\":\"A dog running at a park\"}}\\n{\"modelInput\":{\"inputText\":\"A dog running at a park\"}}\\n{\"modelInput\":{\"inputText\":\"A dog running at a park\"}}\\n{\"modelInput\":{\"inputText\":\"A dog running at a park\"}}\\n{\"modelInput\":{\"inputText\":\"A dog running at a park\"}}\\n{\"modelInput\":{\"inputText\":\"A dog running at a park\"}}\\n{\"modelInput\":{\"inputText\":\"A dog running at a park\"}}\\n{\"modelInput\":{\"inputText\":\"A dog running at a park\"}}\\n{\"modelInput\":{\"inputText\":\"A dog running at a park\"}}\\n{\"modelInput\":{\"inputText\":\"A dog running at a park\"}}\\n{\"modelInput\":{\"inputText\":\"A dog running at a park\"}}\\n{\"modelInput\":{\"inputText\":\"A dog running at a park\"}}\\n{\"modelInput\":{\"inputText\":\"A dog running at a park\"}}\\n{\"modelInput\":{\"inputText\":\"A dog running at a park\"}}\\n{\"modelInput\":{\"inputText\":\"A dog running at a park\"}}\\n{\"modelInput\":{\"inputText\":\"A dog running at a park\"}}\\n{\"modelInput\":{\"inputText\":\"A dog running at a park\"}}\\n{\"modelInput\":{\"inputText\":\"A dog running at a park\"}}\\n{\"modelInput\":{\"inputText\":\"A dog running at a park\"}}\\n{\"modelInput\":{\"inputText\":\"A dog running at a park\"}}\\n{\"modelInput\":{\"inputText\":\"A dog running at a park\"}}\\n{\"modelInput\":{\"inputText\":\"A dog running at a park\"}}\\n{\"modelInput\":{\"inputText\":\"A dog running at a park\"}}\\n{\"modelInput\":{\"inputText\":\"A dog running at a park\"}}\\n{\"modelInput\":{\"inputText\":\"A dog running at a park\"}}\\n{\"modelInput\":{\"inputText\":\"A dog running at a park\"}}\\n{\"modelInput\":{\"inputText\":\"A dog running at a park\"}}\\n{\"modelInput\":{\"inputText\":\"A dog running at a park\"}}\\n{\"modelInput\":{\"inputText\":\"A dog running at a park\"}}\\n{\"modelInput\":{\"inputText\":\"A dog running at a park\"}}\\n{\"modelInput\":{\"inputText\":\"A dog running at a park\"}}\\n{\"modelInput\":{\"inputText\":\"A dog running at a park\"}}\\n{\"modelInput\":{\"inputText\":\"A dog running at a park\"}}\\n{\"modelInput\":{\"inputText\":\"A dog running at a park\"}}\\n{\"modelInput\":{\"inputText\":\"A dog running at a park\"}}\\n{\"modelInput\":{\"inputText\":\"A dog running at a park\"}}\\n{\"modelInput\":{\"inputText\":\"A dog running at a park\"}}\\n{\"modelInput\":{\"inputText\":\"A dog running at a park\"}}\\n{\"modelInput\":{\"inputText\":\"A dog running at a park\"}}\\n{\"modelInput\":{\"inputText\":\"A dog running at a park\"}}\\n{\"modelInput\":{\"inputText\":\"A dog running at a park\"}}\\n{\"modelInput\":{\"inputText\":\"A dog running at a park\"}}\\n{\"modelInput\":{\"inputText\":\"A dog running at a park\"}}\\n{\"modelInput\":{\"inputText\":\"A dog running at a park\"}}\\n{\"modelInput\":{\"inputText\":\"A dog running at a park\"}}\\n{\"modelInput\":{\"inputText\":\"A dog running at a park\"}}\\n{\"modelInput\":{\"inputText\":\"A dog running at a park\"}}\\n{\"modelInput\":{\"inputText\":\"A dog running at a park\"}}\\n{\"modelInput\":{\"inputText\":\"A dog running at a park\"}}\\n{\"modelInput\":{\"inputText\":\"A dog running at a park\"}}\\n{\"modelInput\":{\"inputText\":\"A dog running at a park\"}}\\n{\"modelInput\":{\"inputText\":\"A dog running at a park\"}}\\n{\"modelInput\":{\"inputText\":\"A dog running at a park\"}}\\n{\"modelInput\":{\"inputText\":\"A dog running at a park\"}}\\n{\"modelInput\":{\"inputText\":\"A dog running at a park\"}}\\n{\"modelInput\":{\"inputText\":\"A dog running at a park\"}}\\n{\"modelInput\":{\"inputText\":\"A dog running at a park\"}}\\n{\"modelInput\":{\"inputText\":\"A dog running at a park\"}}\\n{\"modelInput\":{\"inputText\":\"A dog running at a park\"}}\\n{\"modelInput\":{\"inputText\":\"A dog running at a park\"}}\\n{\"modelInput\":{\"inputText\":\"A dog running at a park\"}}\\n{\"modelInput\":{\"inputText\":\"A dog running at a park\"}}\\n{\"modelInput\":{\"inputText\":\"A dog running at a park\"}}\\n{\"modelInput\":{\"inputText\":\"A dog running at a park\"}}\\n{\"modelInput\":{\"inputText\":\"A dog running at a park\"}}\\n{\"modelInput\":{\"inputText\":\"A dog running at a park\"}}\\n{\"modelInput\":{\"inputText\":\"A dog running at a park\"}}\\n{\"modelInput\":{\"inputText\":\"A dog running at a park\"}}\\n{\"modelInput\":{\"inputText\":\"A dog running at a park\"}}\\n{\"modelInput\":{\"inputText\":\"A dog running at a park\"}}\\n{\"modelInput\":{\"inputText\":\"A dog running at a park\"}}\\n{\"modelInput\":{\"inputText\":\"A dog running at a park\"}}\\n{\"modelInput\":{\"inputText\":\"A dog running at a park\"}}\\n{\"modelInput\":{\"inputText\":\"A dog running at a park\"}}\\n{\"modelInput\":{\"inputText\":\"A dog running at a park\"}}\\n{\"modelInput\":{\"inputText\":\"A dog running at a park\"}}\\n{\"modelInput\":{\"inputText\":\"A dog running at a park\"}}\\n{\"modelInput\":{\"inputText\":\"A dog running at a park\"}}\\n{\"modelInput\":{\"inputText\":\"A dog running at a park\"}}\\n{\"modelInput\":{\"inputText\":\"A dog running at a park\"}}\\n{\"modelInput\":{\"inputText\":\"A dog running at a park\"}}\\n{\"modelInput\":{\"inputText\":\"A dog running at a park\"}}\\n{\"modelInput\":{\"inputText\":\"A dog running at a park\"}}\\n{\"modelInput\":{\"inputText\":\"A dog running at a park\"}}\\n{\"modelInput\":{\"inputText\":\"A dog running at a park\"}}\\n{\"modelInput\":{\"inputText\":\"A dog running at a park\"}}\\n{\"modelInput\":{\"inputText\":\"A dog running at a park\"}}\\n{\"modelInput\":{\"inputText\":\"A dog running at a park\"}}\\n{\"modelInput\":{\"inputText\":\"A dog running at a park\"}}\\n{\"modelInput\":{\"inputText\":\"A dog running at a park\"}}\\n{\"modelInput\":{\"inputText\":\"A dog running at a park\"}}\\n{\"modelInput\":{\"inputText\":\"A dog running at a park\"}}\\n{\"modelInput\":{\"inputText\":\"A dog running at a park\"}}\\n{\"modelInput\":{\"inputText\":\"A dog running at a park\"}}\\n{\"modelInput\":{\"inputText\":\"A dog running at a park\"}}\\n{\"modelInput\":{\"inputText\":\"A dog running at a park\"}}\\n{\"modelInput\":{\"inputText\":\"A dog running at a park\"}}\\n{\"modelInput\":{\"inputText\":\"A dog running at a park\"}}\\n{\"modelInput\":{\"inputText\":\"A dog running at a park\"}}\\n{\"modelInput\":{\"inputText\":\"A dog running at a park\"}}\\n{\"modelInput\":{\"inputText\":\"A dog running at a park\"}}\\n{\"modelInput\":{\"inputText\":\"A dog running at a park\"}}\\n{\"modelInput\":{\"inputText\":\"A dog running at a park\"}}\\n{\"modelInput\":{\"inputText\":\"A dog running at a park\"}}\\n{\"modelInput\":{\"inputText\":\"A dog running at a park\"}}\\n{\"modelInput\":{\"inputText\":\"A dog running at a park\"}}\\n{\"modelInput\":{\"inputText\":\"A dog running at a park\"}}\\n{\"modelInput\":{\"inputText\":\"A dog running at a park\"}}\\n{\"modelInput\":{\"inputText\":\"A dog running at a park\"}}\\n{\"modelInput\":{\"inputText\":\"A dog running at a park\"}}\\n{\"modelInput\":{\"inputText\":\"A dog running at a park\"}}\\n{\"modelInput\":{\"inputText\":\"A dog running at a park\"}}\\n{\"modelInput\":{\"inputText\":\"A dog running at a park\"}}\\n{\"modelInput\":{\"inputText\":\"A dog running at a park\"}}\\n{\"modelInput\":{\"inputText\":\"A dog running at a park\"}}\\n{\"modelInput\":{\"inputText\":\"A dog running at a park\"}}\\n{\"modelInput\":{\"inputText\":\"A dog running at a park\"}}\\n{\"modelInput\":{\"inputText\":\"A dog running at a park\"}}\\n{\"modelInput\":{\"inputText\":\"A dog running at a park\"}}\\n{\"modelInput\":{\"inputText\":\"A dog running at a park\"}}\\n{\"modelInput\":{\"inputText\":\"A dog running at a park\"}}\\n{\"modelInput\":{\"inputText\":\"A dog running at a park\"}}\\n{\"modelInput\":{\"inputText\":\"A dog running at a park\"}}\\n{\"modelInput\":{\"inputText\":\"A dog running at a park\"}}\\n{\"modelInput\":{\"inputText\":\"A dog running at a park\"}}\\n{\"modelInput\":{\"inputText\":\"A dog running at a park\"}}\\n{\"modelInput\":{\"inputText\":\"A dog running at a park\"}}\\n{\"modelInput\":{\"inputText\":\"A dog running at a park\"}}\\n{\"modelInput\":{\"inputText\":\"A dog running at a park\"}}\\n{\"modelInput\":{\"inputText\":\"A dog running at a park\"}}\\n{\"modelInput\":{\"inputText\":\"A dog running at a park\"}}\\n{\"modelInput\":{\"inputText\":\"A dog running at a park\"}}\\n{\"modelInput\":{\"inputText\":\"A dog running at a park\"}}\\n{\"modelInput\":{\"inputText\":\"A dog running at a park\"}}\\n{\"modelInput\":{\"inputText\":\"A dog running at a park\"}}\\n{\"modelInput\":{\"inputText\":\"A dog running at a park\"}}\\n{\"modelInput\":{\"inputText\":\"A dog running at a park\"}}\\n{\"modelInput\":{\"inputText\":\"A dog running at a park\"}}\\n{\"modelInput\":{\"inputText\":\"A dog running at a park\"}}\\n{\"modelInput\":{\"inputText\":\"A dog running at a park\"}}\\n{\"modelInput\":{\"inputText\":\"A dog running at a park\"}}\\n{\"modelInput\":{\"inputText\":\"A dog running at a park\"}}\\n{\"modelInput\":{\"inputText\":\"A dog running at a park\"}}\\n{\"modelInput\":{\"inputText\":\"A dog running at a park\"}}\\n{\"modelInput\":{\"inputText\":\"A dog running at a park\"}}\\n{\"modelInput\":{\"inputText\":\"A dog running at a park\"}}\\n{\"modelInput\":{\"inputText\":\"A dog running at a park\"}}\\n{\"modelInput\":{\"inputText\":\"A dog running at a park\"}}\\n{\"modelInput\":{\"inputText\":\"A dog running at a park\"}}\\n{\"modelInput\":{\"inputText\":\"A dog running at a park\"}}\\n{\"modelInput\":{\"inputText\":\"A dog running at a park\"}}\\n{\"modelInput\":{\"inputText\":\"A dog running at a park\"}}\\n{\"modelInput\":{\"inputText\":\"A dog running at a park\"}}\\n{\"modelInput\":{\"inputText\":\"A dog running at a park\"}}\\n{\"modelInput\":{\"inputText\":\"A dog running at a park\"}}\\n{\"modelInput\":{\"inputText\":\"A dog running at a park\"}}\\n{\"modelInput\":{\"inputText\":\"A dog running at a park\"}}\\n{\"modelInput\":{\"inputText\":\"A dog running at a park\"}}\\n{\"modelInput\":{\"inputText\":\"A dog running at a park\"}}\\n{\"modelInput\":{\"inputText\":\"A dog running at a park\"}}\\n{\"modelInput\":{\"inputText\":\"A dog running at a park\"}}\\n{\"modelInput\":{\"inputText\":\"A dog running at a park\"}}\\n{\"modelInput\":{\"inputText\":\"A dog running at a park\"}}\\n{\"modelInput\":{\"inputText\":\"A dog running at a park\"}}\\n{\"modelInput\":{\"inputText\":\"A dog running at a park\"}}\\n{\"modelInput\":{\"inputText\":\"A dog running at a park\"}}\\n{\"modelInput\":{\"inputText\":\"A dog running at a park\"}}\\n{\"modelInput\":{\"inputText\":\"A dog running at a park\"}}\\n{\"modelInput\":{\"inputText\":\"A dog running at a park\"}}\\n{\"modelInput\":{\"inputText\":\"A dog running at a park\"}}\\n{\"modelInput\":{\"inputText\":\"A dog running at a park\"}}\\n{\"modelInput\":{\"inputText\":\"A dog running at a park\"}}\\n{\"modelInput\":{\"inputText\":\"A dog running at a park\"}}\\n{\"modelInput\":{\"inputText\":\"A dog running at a park\"}}\\n{\"modelInput\":{\"inputText\":\"A dog running at a park\"}}\\n{\"modelInput\":{\"inputText\":\"A dog running at a park\"}}\\n{\"modelInput\":{\"inputText\":\"A dog running at a park\"}}\\n{\"modelInput\":{\"inputText\":\"A dog running at a park\"}}\\n{\"modelInput\":{\"inputText\":\"A dog running at a park\"}}\\n{\"modelInput\":{\"inputText\":\"A dog running at a park\"}}\\n{\"modelInput\":{\"inputText\":\"A dog running at a park\"}}\\n{\"modelInput\":{\"inputText\":\"A dog running at a park\"}}\\n{\"modelInput\":{\"inputText\":\"A dog running at a park\"}}\\n{\"modelInput\":{\"inputText\":\"A dog running at a park\"}}\\n{\"modelInput\":{\"inputText\":\"A dog running at a park\"}}\\n{\"modelInput\":{\"inputText\":\"A dog running at a park\"}}\\n{\"modelInput\":{\"inputText\":\"A dog running at a park\"}}\\n{\"modelInput\":{\"inputText\":\"A dog running at a park\"}}\\n{\"modelInput\":{\"inputText\":\"A dog running at a park\"}}\\n{\"modelInput\":{\"inputText\":\"A dog running at a park\"}}\\n{\"modelInput\":{\"inputText\":\"A dog running at a park\"}}\\n{\"modelInput\":{\"inputText\":\"A dog running at a park\"}}\\n{\"modelInput\":{\"inputText\":\"A dog running at a park\"}}\\n{\"modelInput\":{\"inputText\":\"A dog running at a park\"}}\\n{\"modelInput\":{\"inputText\":\"A dog running at a park\"}}\\n{\"modelInput\":{\"inputText\":\"A dog running at a park\"}}\\n{\"modelInput\":{\"inputText\":\"A dog running at a park\"}}\\n{\"modelInput\":{\"inputText\":\"A dog running at a park\"}}\\n{\"modelInput\":{\"inputText\":\"A dog running at a park\"}}\\n{\"modelInput\":{\"inputText\":\"A dog running at a park\"}}\\n{\"modelInput\":{\"inputText\":\"A dog running at a park\"}}\\n{\"modelInput\":{\"inputText\":\"A dog running at a park\"}}\\n{\"modelInput\":{\"inputText\":\"A dog running at a park\"}}\\n{\"modelInput\":{\"inputText\":\"A dog running at a park\"}}\\n{\"modelInput\":{\"inputText\":\"A dog running at a park\"}}\\n{\"modelInput\":{\"inputText\":\"A dog running at a park\"}}\\n{\"modelInput\":{\"inputText\":\"A dog running at a park\"}}\\n{\"modelInput\":{\"inputText\":\"A dog running at a park\"}}\\n{\"modelInput\":{\"inputText\":\"A dog running at a park\"}}\\n{\"modelInput\":{\"inputText\":\"A dog running at a park\"}}\\n{\"modelInput\":{\"inputText\":\"A dog running at a park\"}}\\n{\"modelInput\":{\"inputText\":\"A dog running at a park\"}}\\n{\"modelInput\":{\"inputText\":\"A dog running at a park\"}}\\n{\"modelInput\":{\"inputText\":\"A dog running at a park\"}}\\n{\"modelInput\":{\"inputText\":\"A dog running at a park\"}}\\n{\"modelInput\":{\"inputText\":\"A dog running at a park\"}}\\n{\"modelInput\":{\"inputText\":\"A dog running at a park\"}}\\n{\"modelInput\":{\"inputText\":\"A dog running at a park\"}}\\n{\"modelInput\":{\"inputText\":\"A dog running at a park\"}}\\n{\"modelInput\":{\"inputText\":\"A dog running at a park\"}}\\n{\"modelInput\":{\"inputText\":\"A dog running at a park\"}}\\n{\"modelInput\":{\"inputText\":\"A dog running at a park\"}}\\n{\"modelInput\":{\"inputText\":\"A dog running at a park\"}}\\n{\"modelInput\":{\"inputText\":\"A dog running at a park\"}}\\n{\"modelInput\":{\"inputText\":\"A dog running at a park\"}}\\n{\"modelInput\":{\"inputText\":\"A dog running at a park\"}}\\n{\"modelInput\":{\"inputText\":\"A dog running at a park\"}}\\n{\"modelInput\":{\"inputText\":\"A dog running at a park\"}}\\n{\"modelInput\":{\"inputText\":\"A dog running at a park\"}}\\n{\"modelInput\":{\"inputText\":\"A dog running at a park\"}}\\n{\"modelInput\":{\"inputText\":\"A dog running at a park\"}}\\n{\"modelInput\":{\"inputText\":\"A dog running at a park\"}}\\n'"
      ]
     },
     "execution_count": 4,
     "metadata": {},
     "output_type": "execute_result"
    }
   ],
   "source": [
    "input_json = {\n",
    "    \"modelInput\": {\n",
    "        \"inputText\": prompt\n",
    "    }\n",
    "}\n",
    "\n",
    "from pandas import DataFrame\n",
    "\n",
    "df = DataFrame([input_json for _ in range(number_of_images)])\n",
    "df.to_json(jsonl_path, force_ascii=False, lines=True, orient='records')\n",
    "\n",
    "import json\n",
    "with open(jsonl_path) as jsonl_file:\n",
    "    jsonl_content = jsonl_file.read()\n",
    "\n",
    "jsonl_content"
   ]
  },
  {
   "cell_type": "code",
   "execution_count": 7,
   "metadata": {
    "vscode": {
     "languageId": "shellscript"
    }
   },
   "outputs": [
    {
     "name": "stdout",
     "output_type": "stream",
     "text": [
      "-rw-r--r-- 1 sagemaker-user users 27500 Jan 26 00:54 input/input.jsonl\n"
     ]
    }
   ],
   "source": [
    "! ls -la $jsonl_path"
   ]
  },
  {
   "cell_type": "code",
   "execution_count": 8,
   "metadata": {
    "vscode": {
     "languageId": "shellscript"
    }
   },
   "outputs": [],
   "source": [
    "! aws s3 cp $jsonl_path $s3_path/input/  > /dev/null"
   ]
  },
  {
   "cell_type": "markdown",
   "metadata": {},
   "source": [
    "### 推論"
   ]
  },
  {
   "cell_type": "code",
   "execution_count": 9,
   "metadata": {},
   "outputs": [],
   "source": [
    "import boto3\n",
    "bedrock = boto3.client(service_name=\"bedrock\")\n",
    "\n",
    "def get_job_status(job_arn:str):\n",
    "    job = bedrock.get_model_invocation_job(jobIdentifier=job_arn)\n",
    "    job_status = job.get(\"status\")\n",
    "    return job_status"
   ]
  },
  {
   "cell_type": "code",
   "execution_count": 10,
   "metadata": {},
   "outputs": [
    {
     "data": {
      "text/plain": [
       "'2024-01-26-09-54-44'"
      ]
     },
     "execution_count": 10,
     "metadata": {},
     "output_type": "execute_result"
    }
   ],
   "source": [
    "inputDataConfig = ({\n",
    "    \"s3InputDataConfig\": {\n",
    "        \"s3Uri\": f\"{s3_path}/{jsonl_path}\"\n",
    "    }\n",
    "})\n",
    "\n",
    "outputDataConfig=({\n",
    "    \"s3OutputDataConfig\": {\n",
    "        \"s3Uri\": f\"{s3_path}/output/\"\n",
    "    }\n",
    "})\n",
    "\n",
    "from datetime import timezone, datetime, timedelta\n",
    "\n",
    "now = datetime.now(timezone.utc)\n",
    "time_delta = timedelta(hours = 9)\n",
    "jst = timezone(time_delta)\n",
    "formatted_time = now.astimezone(jst).strftime(\"%Y-%m-%d-%H-%M-%S\")\n",
    "\n",
    "job_name = formatted_time\n",
    "job_name"
   ]
  },
  {
   "cell_type": "code",
   "execution_count": 11,
   "metadata": {},
   "outputs": [
    {
     "data": {
      "text/plain": [
       "{'ResponseMetadata': {'RequestId': '3283148b-386f-4781-8682-46daeec364c2',\n",
       "  'HTTPStatusCode': 200,\n",
       "  'HTTPHeaders': {'date': 'Fri, 26 Jan 2024 00:54:46 GMT',\n",
       "   'content-type': 'application/json',\n",
       "   'content-length': '85',\n",
       "   'connection': 'keep-alive',\n",
       "   'x-amzn-requestid': '3283148b-386f-4781-8682-46daeec364c2'},\n",
       "  'RetryAttempts': 0},\n",
       " 'jobArn': 'arn:aws:bedrock:us-east-1:624045005200:model-invocation-job/bw4u41uy2zu1'}"
      ]
     },
     "execution_count": 11,
     "metadata": {},
     "output_type": "execute_result"
    }
   ],
   "source": [
    "response = bedrock.create_model_invocation_job(\n",
    "    roleArn = role,\n",
    "    modelId = model_id,\n",
    "    jobName = job_name,\n",
    "    inputDataConfig = inputDataConfig,\n",
    "    outputDataConfig = outputDataConfig\n",
    ")\n",
    "response"
   ]
  },
  {
   "cell_type": "code",
   "execution_count": 12,
   "metadata": {},
   "outputs": [
    {
     "data": {
      "text/plain": [
       "'bw4u41uy2zu1'"
      ]
     },
     "execution_count": 12,
     "metadata": {},
     "output_type": "execute_result"
    }
   ],
   "source": [
    "job_arn = response.get(\"jobArn\")\n",
    "job_id = job_arn.split(\"/\")[-1]\n",
    "job_id"
   ]
  },
  {
   "cell_type": "markdown",
   "metadata": {},
   "source": [
    "ジョブの状態はこちら: https://docs.aws.amazon.com/bedrock/latest/userguide/batch-inference-list.html"
   ]
  },
  {
   "cell_type": "code",
   "execution_count": 13,
   "metadata": {},
   "outputs": [
    {
     "name": "stdout",
     "output_type": "stream",
     "text": [
      "Submitted\n",
      "download failed: s3://service-default/Bedrock/Batch-Inference/output/bw4u41uy2zu1/manifest.json.out to - An error occurred (404) when calling the HeadObject operation: Not Found\n",
      "InProgress\n",
      "InProgress\n",
      "InProgress\n",
      "InProgress\n",
      "InProgress\n",
      "InProgress\n",
      "InProgress\n",
      "InProgress\n",
      "InProgress\n",
      "InProgress\n",
      "InProgress\n",
      "InProgress\n",
      "InProgress\n",
      "{\"processedRecordCount\":500,\"successRecordCount\":0,\"errorRecordCount\":500}\n",
      "InProgress\n",
      "{\"processedRecordCount\":500,\"successRecordCount\":0,\"errorRecordCount\":500}\n",
      "InProgress\n",
      "{\"processedRecordCount\":500,\"successRecordCount\":0,\"errorRecordCount\":500}\n",
      "InProgress\n",
      "{\"processedRecordCount\":500,\"successRecordCount\":0,\"errorRecordCount\":500}\n",
      "InProgress\n",
      "{\"processedRecordCount\":500,\"successRecordCount\":0,\"errorRecordCount\":500}\n",
      "InProgress\n",
      "{\"processedRecordCount\":500,\"successRecordCount\":0,\"errorRecordCount\":500}\n",
      "Completed\n",
      "{\"processedRecordCount\":500,\"successRecordCount\":0,\"errorRecordCount\":500}\n"
     ]
    },
    {
     "data": {
      "text/plain": [
       "'Completed'"
      ]
     },
     "execution_count": 13,
     "metadata": {},
     "output_type": "execute_result"
    }
   ],
   "source": [
    "from time import sleep\n",
    "job_status = get_job_status(job_arn)\n",
    "\n",
    "while job_status == \"Submitted\" or job_status == \"InProgress\":\n",
    "    job_status = get_job_status(job_arn)\n",
    "    print(job_status)\n",
    "    ! aws s3 cp $s3_path/output/$job_id/manifest.json.out -\n",
    "    sleep(10)\n",
    "\n",
    "job_status"
   ]
  },
  {
   "cell_type": "code",
   "execution_count": null,
   "metadata": {},
   "outputs": [],
   "source": [
    "# bedrock.list_model_invocation_jobs()"
   ]
  }
 ],
 "metadata": {
  "kernelspec": {
   "display_name": "base",
   "language": "python",
   "name": "python3"
  },
  "language_info": {
   "codemirror_mode": {
    "name": "ipython",
    "version": 3
   },
   "file_extension": ".py",
   "mimetype": "text/x-python",
   "name": "python",
   "nbconvert_exporter": "python",
   "pygments_lexer": "ipython3",
   "version": "3.10.13"
  }
 },
 "nbformat": 4,
 "nbformat_minor": 2
}
