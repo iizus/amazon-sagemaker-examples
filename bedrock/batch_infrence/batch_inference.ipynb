{
 "cells": [
  {
   "cell_type": "markdown",
   "metadata": {},
   "source": [
    "# Amazon Bedrock Batch Inference"
   ]
  },
  {
   "cell_type": "markdown",
   "metadata": {},
   "source": [
    "## 情報\n",
    "- https://docs.aws.amazon.com/bedrock/latest/userguide/batch-inference.html\n",
    "- 2024.1.25\n",
    "    - Public Preview\n",
    "    - 利用方法\n",
    "        - REST API: あると思うが面倒\n",
    "        - CLI: 無さそう\n",
    "        - SDK: プレビューのがある\n",
    "            - PythonとJavaのみ\n",
    "            - https://d2eo22ngex1n9g.cloudfront.net/Documentation/SDK/bedrock-python-sdk-reinvent.zip\n",
    "        - コンソール: 無さそう"
   ]
  },
  {
   "cell_type": "markdown",
   "metadata": {},
   "source": [
    "## 検証内容\n",
    "- Bedrockのbatch推論のquotaがon demandと関係ない（だからquotaに引っ掛からなくてうれしい）と言う説\n",
    "- text to image (SDXL or Titan or Both)で500枚くらいバッチ推論ジョブを発行してどんな風に実行が完了するか（もしくは完了しないか）を見てみる\n",
    "- On demandのquotaより明らかに早かったら嬉しい"
   ]
  },
  {
   "cell_type": "markdown",
   "metadata": {},
   "source": [
    "## 検証"
   ]
  },
  {
   "cell_type": "markdown",
   "metadata": {},
   "source": [
    "### 準備"
   ]
  },
  {
   "cell_type": "code",
   "execution_count": 1,
   "metadata": {
    "vscode": {
     "languageId": "shellscript"
    }
   },
   "outputs": [
    {
     "name": "stdout",
     "output_type": "stream",
     "text": [
      "--2024-01-25 00:47:13--  https://d2eo22ngex1n9g.cloudfront.net/Documentation/SDK/bedrock-python-sdk-reinvent.zip\n",
      "Resolving d2eo22ngex1n9g.cloudfront.net (d2eo22ngex1n9g.cloudfront.net)... 99.84.216.107, 99.84.216.166, 99.84.216.85, ...\n",
      "Connecting to d2eo22ngex1n9g.cloudfront.net (d2eo22ngex1n9g.cloudfront.net)|99.84.216.107|:443... connected.\n",
      "HTTP request sent, awaiting response... 200 OK\n",
      "Length: 314169135 (300M) [application/zip]\n",
      "Saving to: ‘bedrock-python-sdk-reinvent.zip’\n",
      "\n",
      "bedrock-python-sdk- 100%[===================>] 299.61M  35.6MB/s    in 7.3s    \n",
      "\n",
      "2024-01-25 00:47:21 (40.8 MB/s) - ‘bedrock-python-sdk-reinvent.zip’ saved [314169135/314169135]\n",
      "\n"
     ]
    }
   ],
   "source": [
    "! wget https://d2eo22ngex1n9g.cloudfront.net/Documentation/SDK/bedrock-python-sdk-reinvent.zip"
   ]
  },
  {
   "cell_type": "code",
   "execution_count": 2,
   "metadata": {
    "vscode": {
     "languageId": "shellscript"
    }
   },
   "outputs": [
    {
     "name": "stdout",
     "output_type": "stream",
     "text": [
      "Archive:  bedrock-python-sdk-reinvent.zip\n",
      "   creating: sdk/reviews/\n",
      "  inflating: sdk/.unit-crt           \n",
      "  inflating: sdk/botocore-1.32.4.tar.gz  \n",
      "  inflating: sdk/AWSCLI32PY3.msi     \n",
      "  inflating: sdk/awscli-1.30.4-py3-none-any.whl  \n",
      "  inflating: sdk/AWSCLI64PY3.msi     \n",
      "  inflating: sdk/AWSCLI64.msi        \n",
      "  inflating: sdk/boto3-1.29.4.tar.gz  \n",
      "  inflating: sdk/.unit               \n",
      "  inflating: sdk/botocore-1.32.4-py3-none-any.whl  \n",
      "  inflating: sdk/boto3-1.29.4-py3-none-any.whl  \n",
      "  inflating: sdk/AWSCLI32.msi        \n",
      "  inflating: sdk/awscli-1.30.4.tar.gz  \n",
      "  inflating: sdk/.functional         \n",
      "  inflating: sdk/models-starfort-report.json  \n",
      "  inflating: sdk/manifest.json       \n",
      "  inflating: sdk/.functional-crt     \n",
      "  inflating: sdk/awscli-bundle.zip   \n",
      "  inflating: sdk/AWSCLISetup.exe     \n",
      "  inflating: sdk/reviews/botocore-1.32.4.commits  \n",
      "  inflating: sdk/reviews/boto3-1.29.4.commits  \n",
      "  inflating: sdk/reviews/botocore-1.32.4.html  \n",
      "  inflating: sdk/reviews/awscli-1.30.4.html  \n",
      "  inflating: sdk/reviews/boto3-1.29.4.diff  \n",
      "  inflating: sdk/reviews/awscli-1.30.4.diff  \n",
      "  inflating: sdk/reviews/boto3-1.29.4.html  \n",
      "  inflating: sdk/reviews/awscli-1.30.4.commits  \n",
      "  inflating: sdk/reviews/botocore-1.32.4.diff  \n"
     ]
    }
   ],
   "source": [
    "! unzip -d sdk bedrock-python-sdk-reinvent.zip"
   ]
  },
  {
   "cell_type": "code",
   "execution_count": null,
   "metadata": {
    "vscode": {
     "languageId": "shellscript"
    }
   },
   "outputs": [],
   "source": []
  }
 ],
 "metadata": {
  "kernelspec": {
   "display_name": "base",
   "language": "python",
   "name": "python3"
  },
  "language_info": {
   "codemirror_mode": {
    "name": "ipython",
    "version": 3
   },
   "file_extension": ".py",
   "mimetype": "text/x-python",
   "name": "python",
   "nbconvert_exporter": "python",
   "pygments_lexer": "ipython3",
   "version": "3.10.13"
  }
 },
 "nbformat": 4,
 "nbformat_minor": 2
}
