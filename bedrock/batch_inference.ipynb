{
 "cells": [
  {
   "cell_type": "markdown",
   "metadata": {},
   "source": [
    "# Amazon Bedrock Batch Inference"
   ]
  },
  {
   "cell_type": "markdown",
   "metadata": {},
   "source": [
    "## 情報\n",
    "- https://docs.aws.amazon.com/bedrock/latest/userguide/batch-inference.html\n",
    "- 2024.1.25\n",
    "    - Public Preview\n",
    "    - 利用方法\n",
    "        - REST API: あると思うが面倒\n",
    "        - CLI: 無さそう\n",
    "        - SDK: プレビューのがある\n",
    "            - PythonとJavaのみ\n",
    "            - https://d2eo22ngex1n9g.cloudfront.net/Documentation/SDK/bedrock-python-sdk-reinvent.zip\n",
    "        - コンソール: 無さそう"
   ]
  },
  {
   "cell_type": "markdown",
   "metadata": {},
   "source": [
    "## 検証内容\n",
    "- Bedrockのbatch推論のquotaがon demandと関係ない（だからquotaに引っ掛からなくてうれしい）と言う説\n",
    "- text to image (SDXL or Titan or Both)で500枚くらいバッチ推論ジョブを発行してどんな風に実行が完了するか（もしくは完了しないか）を見てみる\n",
    "- On demandのquotaより明らかに早かったら嬉しい"
   ]
  },
  {
   "cell_type": "markdown",
   "metadata": {},
   "source": []
  }
 ],
 "metadata": {
  "language_info": {
   "name": "python"
  }
 },
 "nbformat": 4,
 "nbformat_minor": 2
}
